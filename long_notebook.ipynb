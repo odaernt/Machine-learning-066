{
 "cells": [
  {
   "cell_type": "markdown",
   "id": "85338b01",
   "metadata": {},
   "source": [
    "## Group members\n",
    "Oda Grauff Erntsen 490130\n",
    "\n",
    "Marte Vingsnes 521488\n",
    "\n",
    "Malin Døskeland 527204\n",
    "\n",
    "Kaggle team name: The Data Divas"
   ]
  },
  {
   "cell_type": "markdown",
   "id": "efaf830d-1336-414e-9245-10485af71fb2",
   "metadata": {},
   "source": [
    "## Imports"
   ]
  },
  {
   "cell_type": "code",
   "execution_count": 185,
   "id": "3e6f031b-a104-4924-94ca-cfa61dcf0884",
   "metadata": {},
   "outputs": [],
   "source": [
    "import pandas as pd\n",
    "import numpy as np\n",
    "import seaborn as sns\n",
    "from numpy import column_stack\n",
    "import matplotlib.pylab as plt\n",
    "import tensorflow as tf\n",
    "from tensorflow.keras.models import Sequential\n",
    "from tensorflow.keras.layers import LSTM, Dense\n",
    "optimizer = tf.keras.optimizers.legacy.Adam(...)\n",
    "from keras.callbacks import EarlyStopping\n",
    "from keras.layers import Flatten\n",
    "from sklearn.preprocessing import MinMaxScaler, StandardScaler, RobustScaler\n",
    "import lightgbm as lgb\n",
    "from sklearn.model_selection import GridSearchCV, PredefinedSplit\n",
    "from sklearn.ensemble import HistGradientBoostingRegressor\n",
    "from sklearn.metrics import mean_absolute_error\n",
    "from sklearn.linear_model import LinearRegression\n",
    "from sklearn.ensemble import RandomForestRegressor\n",
    "from sklearn.model_selection import KFold\n",
    "from scipy.stats import gmean\n",
    "import logging\n",
    "import optuna\n",
    "\n",
    "optuna.logging.set_verbosity(optuna.logging.WARNING)\n",
    "\n"
   ]
  },
  {
   "cell_type": "markdown",
   "id": "fdfdad20-a0a9-4e1f-9707-c3a100b595e3",
   "metadata": {},
   "source": [
    "## Constants"
   ]
  },
  {
   "cell_type": "code",
   "execution_count": 157,
   "id": "aa166899-0ba9-4c37-b193-125329f96688",
   "metadata": {},
   "outputs": [],
   "source": [
    "EPOCHS = 100\n",
    "BATCH_SIZE = 32\n",
    "PATIENCE = 10\n",
    "\n",
    "root = os.getcwd()\n"
   ]
  },
  {
   "cell_type": "markdown",
   "id": "6c9131ab-aa92-4927-bb54-b01ede247e41",
   "metadata": {},
   "source": [
    "## Load and Process Data\n",
    "Tried different resampling and cleaning of the data"
   ]
  },
  {
   "cell_type": "code",
   "execution_count": 158,
   "id": "d4ee0d62-bf93-419c-ab0c-7dd1514043ed",
   "metadata": {},
   "outputs": [],
   "source": [
    "def aggregate_data(df):\n",
    "    df['hourly_timestamp'] = df['date_forecast'].dt.floor('H')\n",
    "\n",
    "    df.set_index('hourly_timestamp', inplace=True)\n",
    "\n",
    "    aggregations = {col: 'median' for col in df.columns if col != 'date_forecast'}\n",
    "    aggregations['date_forecast'] = 'first'\n",
    "\n",
    "    df = df.groupby('hourly_timestamp').agg(aggregations).reset_index()\n",
    "\n",
    "    df.drop(columns=['hourly_timestamp'], inplace=True)\n",
    "    df['date_forecast'] = df['date_forecast'].dt.floor('H')\n",
    "    \n",
    "    return df"
   ]
  },
  {
   "cell_type": "code",
   "execution_count": null,
   "id": "5cc74ec2",
   "metadata": {},
   "outputs": [],
   "source": [
    "# Resampling based on description of each feature\n",
    "'''\n",
    "def resample_and_clean(dataset, time_freq='H', set_index=None):\n",
    "    if set_index:\n",
    "        dataset = dataset.set_index(set_index)\n",
    "    \n",
    "    dataset.index = pd.to_datetime(dataset.index)\n",
    "        \n",
    "    agg_methods = {\n",
    "        'absolute_humidity_2m:gm3': 'mean',\n",
    "        'air_density_2m:kgm3': 'mean',\n",
    "        'ceiling_height_agl:m': 'mean',\n",
    "        'clear_sky_energy_1h:J': 'last',\n",
    "        'clear_sky_rad:W': 'sum',\n",
    "        'cloud_base_agl:m': 'mean',\n",
    "        'dew_or_rime:idx': 'last',\n",
    "        'dew_point_2m:K': 'mean',\n",
    "        'diffuse_rad:W': 'sum',\n",
    "        'diffuse_rad_1h:J': 'last', \n",
    "        'direct_rad:W': 'sum',\n",
    "        'direct_rad_1h:J': 'last', \n",
    "        'effective_cloud_cover:p': 'mean',\n",
    "        'elevation:m': 'mean', \n",
    "        'fresh_snow_12h:cm': 'last',\n",
    "        'fresh_snow_24h:cm': 'last',\n",
    "        'fresh_snow_3h:cm': 'last',\n",
    "        'fresh_snow_6h:cm': 'last',\n",
    "        'fresh_snow_1h:cm': 'last',\n",
    "        'is_day:idx': 'last',\n",
    "        'is_in_shadow:idx': 'last',\n",
    "        'msl_pressure:hPa': 'mean',\n",
    "        'precip_5min:mm' : 'sum',\n",
    "        'precip_type_5min:idx': 'last',\n",
    "        'pressure_100m:hPa': 'mean',\n",
    "        'pressure_50m:hPa': 'mean',\n",
    "        'prob_rime:p': 'last',\n",
    "        'rain_water:kgm2': 'sum', \n",
    "        'relative_humidity_1000hPa:p': 'mean', \n",
    "        'sfc_pressure:hPa': 'mean',\n",
    "        'snow_density:kgm3': 'mean', \n",
    "        'snow_depth:cm': 'mean',\n",
    "        'snow_drift:idx': 'mean',\n",
    "        'snow_melt_10min:mm': 'sum', \n",
    "        'snow_water:kgm2': 'sum',\n",
    "        'sun_azimuth:d': 'mean',\n",
    "        'sun_elevation:d': 'mean',\n",
    "        'super_cooled_liquid_water:kgm2': 'mean', \n",
    "        't_1000hPa:K': 'mean',\n",
    "        'total_cloud_cover:p': 'mean', \n",
    "        'visibility:m': 'mean', \n",
    "        'wind_speed_10m:ms': 'mean',\n",
    "        'wind_speed_u_10m:ms': 'mean', \n",
    "        'wind_speed_v_10m:ms': 'mean',\n",
    "        'wind_speed_w_1000hPa:ms': 'mean',\n",
    "    }    \n",
    "\n",
    "    resampled_data = dataset.resample(time_freq).agg(agg_methods)\n",
    "\n",
    "    # Drop specified columns\n",
    "    columns_to_drop = ['ceiling_height_agl:m', 'cloud_base_agl:m', 'snow_density:kgm3']\n",
    "    resampled_data2 = resampled_data.drop(columns=columns_to_drop)\n",
    "\n",
    "    return resampled_data2.dropna(thresh=42)\n",
    "    '''"
   ]
  },
  {
   "cell_type": "code",
   "execution_count": 159,
   "id": "560752a4-aea3-4971-b990-8d1bd94e0297",
   "metadata": {},
   "outputs": [],
   "source": [
    "def clean_aggregated_data(df):\n",
    "    #df = add_date_features(df.copy())\n",
    "    df.drop(columns=['snow_density:kgm3'], inplace=True)\n",
    "    \n",
    "    if \"date_calc\" in df.columns:\n",
    "        df.drop(columns=['date_calc'], inplace=True)\n",
    "    return df"
   ]
  },
  {
   "cell_type": "code",
   "execution_count": 161,
   "id": "90af564f",
   "metadata": {},
   "outputs": [],
   "source": [
    "def visualize_pv_measurement(merged_data):\n",
    "    plt.figure(figsize=(10, 5))\n",
    "    plt.plot(merged_data['date_forecast'], merged_data['pv_measurement'])\n",
    "    plt.xlabel('Time')\n",
    "    plt.ylabel('PV Measurement')\n",
    "    plt.title('PV Measurement Over Time')\n",
    "    plt.grid(True)\n",
    "    plt.show()"
   ]
  },
  {
   "cell_type": "markdown",
   "id": "15e6fd85",
   "metadata": {},
   "source": [
    "### Removal of noise functions\n",
    "Our exploration of the data shows that there were noise in the measurements, which lead to functions for removing this noise"
   ]
  },
  {
   "cell_type": "code",
   "execution_count": 162,
   "id": "5922a153",
   "metadata": {},
   "outputs": [],
   "source": [
    "def mark_consecutive_identical(series, threshold=23):\n",
    "    \"\"\"Mark sequences of threshold or more identical consecutive values with NaN\"\"\"\n",
    "    series_copy = series.copy()\n",
    "    \n",
    "    diff = series_copy.diff().ne(0)\n",
    "    \n",
    "    count = (~diff).groupby(diff.cumsum()).cumsum()\n",
    "    \n",
    "    series_copy[count >= threshold] = np.nan\n",
    "    \n",
    "    return series_copy\n",
    "\n",
    "def drop_noise_in_pv_measurement(merged_data):\n",
    "    merged_data['pv_measurement'] = mark_consecutive_identical(merged_data['pv_measurement'])\n",
    "    \n",
    "    merged_data.dropna(subset=['pv_measurement'], inplace=True)\n",
    "    \n",
    "    return merged_data"
   ]
  },
  {
   "cell_type": "markdown",
   "id": "a6e53a59",
   "metadata": {},
   "source": [
    "### Removal of correlated features functions\n",
    "The feature exploration also showed that severeal of the features were highly correlated which we tried to drop"
   ]
  },
  {
   "cell_type": "code",
   "execution_count": 163,
   "id": "79b862ac",
   "metadata": {},
   "outputs": [],
   "source": [
    "columns_to_drop = [ \n",
    "            'elevation:m',\n",
    "            'is_day:idx',\n",
    "            'snow_density:kgm3',\n",
    "            'snow_drift:idx',\n",
    "            'dew_point_2m:K',\n",
    "            't_1000hPa:K',\n",
    "            'clear_sky_rad:W',\n",
    "            'diffuse_rad_1h:J',\n",
    "            'direct_rad_1h:J',\n",
    "            'total_cloud_cover:p',\n",
    "            'pressure_100m:hPa',\n",
    "            'pressure_50m:hPa',\n",
    "            'sfc_pressure:hPa'\n",
    "        ]\n",
    "\n",
    "def drop_correlated_columns(data):\n",
    "\n",
    "    for e in columns_to_drop:\n",
    "        data.drop(columns=e, inplace=True, errors='ignore')\n",
    "\n",
    "    return data"
   ]
  },
  {
   "cell_type": "markdown",
   "id": "e6d3f145",
   "metadata": {},
   "source": [
    "### Processing of data\n",
    "This part combines all of our preprocessing"
   ]
  },
  {
   "cell_type": "code",
   "execution_count": 164,
   "id": "c9e17acd-5673-41fd-b6eb-2af5f7d30e21",
   "metadata": {},
   "outputs": [],
   "source": [
    "def process(data, targets, visualize=False):\n",
    "    aggregated_data = aggregate_data(data.copy())\n",
    "    \n",
    "    aggregated_data = clean_aggregated_data(aggregated_data)\n",
    "    \n",
    "    merged_data = aggregated_data.merge(targets[['time', 'pv_measurement']], how='inner', left_on='date_forecast', right_on='time')\n",
    "    merged_data.dropna(subset=['pv_measurement'], inplace=True)\n",
    "\n",
    "    drop_noise_in_pv_measurement(merged_data)\n",
    "\n",
    "    drop_correlated_columns(merged_data)\n",
    "\n",
    "    #if visualize:\n",
    "        #visualize_pv_measurement(merged_data)\n",
    "\n",
    "    y = merged_data[\"pv_measurement\"]\n",
    "    X = merged_data.drop(columns=['pv_measurement', 'date_forecast', 'time'])\n",
    "    return X, y"
   ]
  },
  {
   "cell_type": "code",
   "execution_count": 165,
   "id": "b834961e-599a-43c9-aabc-9fd6756b2e7d",
   "metadata": {},
   "outputs": [],
   "source": [
    "# Directory paths for each group of data\n",
    "train_dirpath_A = os.path.join(root, \"data\", \"A\")\n",
    "train_dirpath_B = os.path.join(root, \"data\", \"B\")\n",
    "train_dirpath_C = os.path.join(root, \"data\", \"C\")\n",
    "\n",
    "# pv_measurement for all training and validation rows\n",
    "a_targets = pd.read_parquet(os.path.join(train_dirpath_A, 'train_targets.parquet'))\n",
    "b_targets = pd.read_parquet(os.path.join(train_dirpath_B, 'train_targets.parquet'))\n",
    "c_targets = pd.read_parquet(os.path.join(train_dirpath_C, 'train_targets.parquet'))\n",
    "\n",
    "# training data\n",
    "X_train_observed_a = pd.read_parquet(os.path.join(train_dirpath_A, 'X_train_observed.parquet'))\n",
    "X_train_observed_b = pd.read_parquet(os.path.join(train_dirpath_B, 'X_train_observed.parquet'))\n",
    "X_train_observed_c = pd.read_parquet(os.path.join(train_dirpath_C, 'X_train_observed.parquet'))\n",
    "\n",
    "# validation data\n",
    "X_train_estimated_a = pd.read_parquet(os.path.join(train_dirpath_A, 'X_train_estimated.parquet'))\n",
    "X_train_estimated_b = pd.read_parquet(os.path.join(train_dirpath_B, 'X_train_estimated.parquet'))\n",
    "X_train_estimated_c = pd.read_parquet(os.path.join(train_dirpath_C, 'X_train_estimated.parquet'))\n",
    "\n",
    "# test data\n",
    "X_test_estimated_a = pd.read_parquet(os.path.join(train_dirpath_A, 'X_test_estimated.parquet'))\n",
    "X_test_estimated_b = pd.read_parquet(os.path.join(train_dirpath_B, 'X_test_estimated.parquet'))\n",
    "X_test_estimated_c = pd.read_parquet(os.path.join(train_dirpath_C, 'X_test_estimated.parquet'))"
   ]
  },
  {
   "cell_type": "code",
   "execution_count": 166,
   "id": "64b8d73e-ac07-4a80-9b8d-28e4b7f0b44f",
   "metadata": {},
   "outputs": [],
   "source": [
    "X_train_A, y_train_A = process(X_train_observed_a, a_targets, visualize=True)\n",
    "X_val_A, y_val_A = process(X_train_estimated_a, a_targets)\n",
    "\n",
    "X_test_A = aggregate_data(X_test_estimated_a.copy())\n",
    "X_test_A = clean_aggregated_data(X_test_A.copy())\n",
    "X_test_A = drop_correlated_columns(X_test_A.copy())\n",
    "X_test_A.drop(columns=['date_forecast'], inplace=True)\n"
   ]
  },
  {
   "cell_type": "code",
   "execution_count": 167,
   "id": "45d6990b-158b-4b6e-8896-2be88a8b7f0c",
   "metadata": {},
   "outputs": [],
   "source": [
    "X_train_B, y_train_B = process(X_train_observed_b, b_targets, visualize=True)\n",
    "X_val_B, y_val_B = process(X_train_estimated_b, b_targets)\n",
    "\n",
    "X_test_B = aggregate_data(X_test_estimated_b.copy())\n",
    "X_test_B = clean_aggregated_data(X_test_B.copy())\n",
    "X_test_B = drop_correlated_columns(X_test_B.copy())\n",
    "X_test_B.drop(columns=['date_forecast'], inplace=True)"
   ]
  },
  {
   "cell_type": "code",
   "execution_count": 168,
   "id": "c7310ac9-63f1-4463-aed6-227debea71da",
   "metadata": {},
   "outputs": [],
   "source": [
    "X_train_C, y_train_C = process(X_train_observed_c, c_targets, visualize=True)\n",
    "X_val_C, y_val_C = process(X_train_estimated_c, c_targets)\n",
    "\n",
    "X_test_C = aggregate_data(X_test_estimated_c.copy())\n",
    "X_test_C = clean_aggregated_data(X_test_C.copy())\n",
    "X_test_C = drop_correlated_columns(X_test_C.copy())\n",
    "X_test_C.drop(columns=['date_forecast'], inplace=True)"
   ]
  },
  {
   "cell_type": "markdown",
   "id": "add70092",
   "metadata": {},
   "source": [
    "## Feature exploration\n",
    "Here we found the highly correlated features which we chose to drop above"
   ]
  },
  {
   "cell_type": "code",
   "execution_count": null,
   "id": "264401a4",
   "metadata": {},
   "outputs": [],
   "source": [
    "# Checks for location A in this code, the same has been done for B and C\n",
    "column_names = X_train_observed_a.columns\n",
    "\n",
    "for i, e in enumerate(column_names):\n",
    "    \n",
    "    if e == \"date_forecast\": continue\n",
    "\n",
    "    feature_name = e\n",
    "\n",
    "    fig, ax = plt.subplots(figsize=(15, 4))\n",
    "\n",
    "    print(feature_name)\n",
    "\n",
    "    X_train_observed_a[['date_forecast', feature_name]].set_index('date_forecast').plot(ax=ax, title='Train/Test A', color='red', label='Observed A')\n",
    "    X_train_estimated_a[['date_forecast', feature_name]].set_index('date_forecast').plot(ax=ax, color='blue', label='Estimated A')\n",
    "    X_test_estimated_a[['date_forecast', feature_name]].set_index('date_forecast').plot(ax=ax, color='green', label='Test A')\n",
    "\n",
    "    ax.legend()\n",
    "\n",
    "    plt.show()"
   ]
  },
  {
   "cell_type": "code",
   "execution_count": null,
   "id": "321d065b",
   "metadata": {},
   "outputs": [],
   "source": [
    "correlation_matrix = X_train_observed_a.corr()\n",
    "plt.figure(figsize=(20, 20))\n",
    "mask = abs(correlation_matrix) > 0.8\n",
    "sns.heatmap(correlation_matrix, mask=~mask, annot=True, cmap='coolwarm', linewidths=.5, annot_kws={\"size\": 8})\n",
    "plt.title('Correlation matrix of the features')\n",
    "plt.show()"
   ]
  },
  {
   "cell_type": "code",
   "execution_count": null,
   "id": "603007aa",
   "metadata": {},
   "outputs": [],
   "source": [
    "threshold = 0.8\n",
    "\n",
    "columns = correlation_matrix.columns \n",
    "\n",
    "highly_correlated_pairs = []\n",
    "\n",
    "for i in range(correlation_matrix.shape[0]):\n",
    "    for j in range(i+1, correlation_matrix.shape[1]):\n",
    "        if abs(correlation_matrix.iloc[i, j]) > threshold:\n",
    "            highly_correlated_pairs.append((columns[i], columns[j], correlation_matrix.iloc[i, j]))\n",
    "\n",
    "print(\"Highly correlated pairs of features (above threshold of {}):\".format(threshold))\n",
    "for pair in highly_correlated_pairs:\n",
    "    print(f\"{pair[0]} and {pair[1]}: {pair[2]:.2f}\")"
   ]
  },
  {
   "cell_type": "markdown",
   "id": "fa67121f-9bcd-412e-86a8-b57a14c146d3",
   "metadata": {},
   "source": [
    "## Handle Missing Values\n",
    "To handle missing values we have tried several techniques, both replacing them with mean and a combination of forward-backward fill"
   ]
  },
  {
   "cell_type": "code",
   "execution_count": null,
   "id": "7906dcfa",
   "metadata": {},
   "outputs": [],
   "source": [
    "def replace_nan_with_mean(df):\n",
    "    for column in df.columns:\n",
    "        mean_value = df[column].mean()\n",
    "        df[column].fillna(mean_value, inplace=True)\n",
    "    return df"
   ]
  },
  {
   "cell_type": "code",
   "execution_count": 169,
   "id": "f676ff68-7b56-41af-8ca0-0a3fa5819ecc",
   "metadata": {},
   "outputs": [],
   "source": [
    "def forward_backward_fill(X):\n",
    "    print(type(X))\n",
    "    X['ceiling_height_agl:m'].fillna(method='ffill', inplace=True)\n",
    "    X['ceiling_height_agl:m'].fillna(method='bfill', inplace=True)\n",
    "    \n",
    "    X['cloud_base_agl:m'].fillna(method='ffill', inplace=True)\n",
    "    X['cloud_base_agl:m'].fillna(method='bfill', inplace=True)\n",
    "    \n",
    "    return X\n"
   ]
  },
  {
   "cell_type": "code",
   "execution_count": 170,
   "id": "c8bd5829-7034-4c6c-a7fd-2e5ded60d73d",
   "metadata": {},
   "outputs": [
    {
     "name": "stdout",
     "output_type": "stream",
     "text": [
      "<class 'pandas.core.frame.DataFrame'>\n",
      "<class 'pandas.core.frame.DataFrame'>\n",
      "<class 'pandas.core.frame.DataFrame'>\n",
      "<class 'pandas.core.frame.DataFrame'>\n",
      "<class 'pandas.core.frame.DataFrame'>\n",
      "<class 'pandas.core.frame.DataFrame'>\n",
      "<class 'pandas.core.frame.DataFrame'>\n",
      "<class 'pandas.core.frame.DataFrame'>\n",
      "<class 'pandas.core.frame.DataFrame'>\n"
     ]
    },
    {
     "name": "stderr",
     "output_type": "stream",
     "text": [
      "/var/folders/18/r2ql_22j6qz613qdzqhrv5bc0000gn/T/ipykernel_35477/3996943496.py:3: FutureWarning: Series.fillna with 'method' is deprecated and will raise in a future version. Use obj.ffill() or obj.bfill() instead.\n",
      "  X['ceiling_height_agl:m'].fillna(method='ffill', inplace=True)\n",
      "/var/folders/18/r2ql_22j6qz613qdzqhrv5bc0000gn/T/ipykernel_35477/3996943496.py:4: FutureWarning: Series.fillna with 'method' is deprecated and will raise in a future version. Use obj.ffill() or obj.bfill() instead.\n",
      "  X['ceiling_height_agl:m'].fillna(method='bfill', inplace=True)\n",
      "/var/folders/18/r2ql_22j6qz613qdzqhrv5bc0000gn/T/ipykernel_35477/3996943496.py:6: FutureWarning: Series.fillna with 'method' is deprecated and will raise in a future version. Use obj.ffill() or obj.bfill() instead.\n",
      "  X['cloud_base_agl:m'].fillna(method='ffill', inplace=True)\n",
      "/var/folders/18/r2ql_22j6qz613qdzqhrv5bc0000gn/T/ipykernel_35477/3996943496.py:7: FutureWarning: Series.fillna with 'method' is deprecated and will raise in a future version. Use obj.ffill() or obj.bfill() instead.\n",
      "  X['cloud_base_agl:m'].fillna(method='bfill', inplace=True)\n"
     ]
    }
   ],
   "source": [
    "handle_nan = forward_backward_fill\n",
    "\n",
    "X_train_A = handle_nan(X_train_A)\n",
    "X_val_A = handle_nan(X_val_A)\n",
    "X_test_A = handle_nan(X_test_A)\n",
    "\n",
    "X_train_B = handle_nan(X_train_B)\n",
    "X_val_B = handle_nan(X_val_B)\n",
    "X_test_B = handle_nan(X_test_B)\n",
    "\n",
    "X_train_C = handle_nan(X_train_C)\n",
    "X_val_C = handle_nan(X_val_C)\n",
    "X_test_C = handle_nan(X_test_C)\n",
    "\n"
   ]
  },
  {
   "cell_type": "markdown",
   "id": "d6e1164f-df49-4ddb-bc62-0a83964d0d4c",
   "metadata": {},
   "source": [
    "## Normalize Data\n",
    "Since we chose to implement a Neural Network it was necessary to scale the data, we tried other scalers as well but robust was the best one. The other ones we tried were MinMaxScaler and StandardScaler"
   ]
  },
  {
   "cell_type": "code",
   "execution_count": 171,
   "id": "45fce0a2-bf94-46d8-b34a-c5876db555d2",
   "metadata": {},
   "outputs": [],
   "source": [
    "scaler = RobustScaler()\n",
    "X_train_A = scaler.fit_transform(X_train_A)\n",
    "X_val_A = scaler.transform(X_val_A)\n",
    "X_test_A = scaler.transform(X_test_A)"
   ]
  },
  {
   "cell_type": "code",
   "execution_count": 172,
   "id": "fa6accea-f28e-4f89-ab4f-162754a4e6ad",
   "metadata": {},
   "outputs": [],
   "source": [
    "scaler = RobustScaler()\n",
    "X_train_B = scaler.fit_transform(X_train_B)\n",
    "X_val_B = scaler.transform(X_val_B)\n",
    "X_test_B = scaler.transform(X_test_B)"
   ]
  },
  {
   "cell_type": "code",
   "execution_count": 173,
   "id": "cdf4b2ad-10a1-487e-88e0-c93937cedecc",
   "metadata": {},
   "outputs": [],
   "source": [
    "scaler = RobustScaler()\n",
    "X_train_C = scaler.fit_transform(X_train_C)\n",
    "X_val_C = scaler.transform(X_val_C)\n",
    "X_test_C = scaler.transform(X_test_C)"
   ]
  },
  {
   "cell_type": "markdown",
   "id": "a50e91a1-d511-4294-9b21-810041b57a5d",
   "metadata": {},
   "source": [
    "## Create and Train MLP Model\n",
    "We wanted to try a combination of a neural network and other models, so we implemented a MLP model. Additionally did we use optuna to do hyperparameter tuning so that we could stack several models. All of the code from this exploration is added below."
   ]
  },
  {
   "cell_type": "code",
   "execution_count": 174,
   "id": "4845fcaa-f468-40d2-b8ab-b9da28d14854",
   "metadata": {},
   "outputs": [],
   "source": [
    "def create_mlp(input_shape, lr, weights):\n",
    "    model = Sequential()\n",
    "    model.add(Flatten(input_shape=input_shape))\n",
    "    model.add(Dense(units=weights, activation='relu'))\n",
    "    model.add(Dense(units=weights//2, activation='relu'))\n",
    "    model.add(Dense(units=1, activation='linear'))\n",
    "    model.compile(optimizer=Adam(learning_rate=lr), loss='mean_absolute_error')\n",
    "    return model"
   ]
  },
  {
   "cell_type": "code",
   "execution_count": 175,
   "id": "528bf474-85fc-4896-8aa8-d6fe468f3674",
   "metadata": {},
   "outputs": [],
   "source": [
    "def train_and_save_mlp_model(X_train, y_train, X_val, y_val, model_save_path, lr, weights, patience=10, epochs=100, batch_size=32):\n",
    "    input_shape = X_train.shape[1:]\n",
    "    model = create_mlp(input_shape, lr, weights)\n",
    "    \n",
    "    early_stop = EarlyStopping(monitor='val_loss', patience=patience, restore_best_weights=True)\n",
    "    location = model_save_path.split('_')[-1].split('.')[0]\n",
    "    print(\"-------------------------------\")\n",
    "    print(\"Training model for location:\", location)\n",
    "    print(\"-------------------------------\")\n",
    "    \n",
    "    model.fit(X_train, y_train, epochs=epochs, batch_size=batch_size, validation_data=(X_val, y_val), callbacks=[early_stop])\n",
    "    model.save(os.path.join(root, model_save_path))\n",
    "    return model"
   ]
  },
  {
   "cell_type": "code",
   "execution_count": 176,
   "id": "9c2e872c",
   "metadata": {},
   "outputs": [],
   "source": [
    "def train_multiple_models(X_train, y_train, X_val, y_val, model_save_path, hyperparams_list):\n",
    "    models = []\n",
    "    for i, hyperparams in enumerate(hyperparams_list):\n",
    "        print(f\"Training model {i+1}/{len(hyperparams_list)} with hyperparameters: {hyperparams}\")\n",
    "        model = train_and_save_mlp_model(X_train, y_train, X_val, y_val, f\"{model_save_path}_model_{i+1}.h5\", **hyperparams)\n",
    "        models.append(model)\n",
    "    return models\n"
   ]
  },
  {
   "cell_type": "markdown",
   "id": "87c0af2c",
   "metadata": {},
   "source": [
    "## Hyperparameter tuning with optuna"
   ]
  },
  {
   "cell_type": "code",
   "execution_count": null,
   "id": "27bb1b69",
   "metadata": {},
   "outputs": [],
   "source": [
    "def objective(trial, X_train, y_train, X_val, y_val, model_save_path):\n",
    "    lr = trial.suggest_float(\"lr\", 1e-5, 1e-2, log=True)\n",
    "    weights = trial.suggest_int(\"weights\", 32, 256, step=32)\n",
    "    \n",
    "    input_shape = X_train.shape[1:]\n",
    "    model = create_mlp(input_shape, lr, weights)\n",
    "    \n",
    "    early_stop = EarlyStopping(monitor='val_loss', patience=PATIENCE, restore_best_weights=True)\n",
    "    \n",
    "    history = model.fit(X_train, y_train, epochs=EPOCHS, batch_size=BATCH_SIZE, validation_data=(X_val, y_val), callbacks=[early_stop], verbose=0)\n",
    "    \n",
    "    return min(history.history[\"val_loss\"])"
   ]
  },
  {
   "cell_type": "code",
   "execution_count": null,
   "id": "a00844e7",
   "metadata": {},
   "outputs": [],
   "source": [
    "def optimize_and_save_best_models(X_train, y_train, X_val, y_val, model_save_path, n_trials=1000):\n",
    "    study = optuna.create_study(direction=\"minimize\")\n",
    "    study.optimize(lambda trial: objective(trial, X_train, y_train, X_val, y_val, model_save_path), n_trials=n_trials)\n",
    "    \n",
    "    for i in range(5):\n",
    "        trial = study.trials[i]\n",
    "        model_path = f\"{model_save_path}_best_{i+1}.h5\"\n",
    "        input_shape = X_train.shape[1:]\n",
    "        best_model = create_mlp(input_shape, trial.params[\"lr\"], trial.params[\"weights\"])\n",
    "        best_model.fit(X_train, y_train, epochs=EPOCHS, batch_size=BATCH_SIZE, validation_data=(X_val, y_val), verbose=0)\n",
    "        best_model.save(model_path)\n",
    "    \n",
    "    return study\n",
    "\n"
   ]
  },
  {
   "cell_type": "code",
   "execution_count": null,
   "id": "946710b8",
   "metadata": {},
   "outputs": [],
   "source": [
    "study_A = optimize_and_save_best_models(X_train_A, y_train_A, X_val_A, y_val_A, 'models/model_location_A')\n",
    "study_B = optimize_and_save_best_models(X_train_B, y_train_B, X_val_B, y_val_B, 'models/model_location_B')\n",
    "study_C = optimize_and_save_best_models(X_train_C, y_train_C, X_val_C, y_val_C, 'models/model_location_C')\n",
    "\n",
    "print(\"Best hyperparameters for location A:\", study_A.best_params)\n",
    "print(\"Best hyperparameters for location B:\", study_B.best_params)\n",
    "print(\"Best hyperparameters for location C:\", study_C.best_params)\n"
   ]
  },
  {
   "cell_type": "code",
   "execution_count": null,
   "id": "d2a6ad2a",
   "metadata": {},
   "outputs": [],
   "source": [
    "def print_best_hyperparameters(study, location_name, top_k=10):\n",
    "    best_trials = sorted(study.trials, key=lambda trial: trial.value)[:top_k]\n",
    "    print(f\"Best hyperparameters for location {location_name}:\")\n",
    "    for i, trial in enumerate(best_trials):\n",
    "        print(f\"Rank {i+1}\")\n",
    "        print(f\" Loss: {trial.value}\")\n",
    "        print(f\" Params: {trial.params}\")\n",
    "        print(\"\\n\")\n",
    "\n",
    "print_best_hyperparameters(study_A, \"A\")\n",
    "print_best_hyperparameters(study_B, \"B\")\n",
    "print_best_hyperparameters(study_C, \"C\")\n"
   ]
  },
  {
   "cell_type": "code",
   "execution_count": 177,
   "id": "c07b50e3",
   "metadata": {},
   "outputs": [
    {
     "name": "stderr",
     "output_type": "stream",
     "text": [
      "WARNING:absl:At this time, the v2.11+ optimizer `tf.keras.optimizers.Adam` runs slowly on M1/M2 Macs, please use the legacy Keras optimizer instead, located at `tf.keras.optimizers.legacy.Adam`.\n",
      "WARNING:absl:There is a known slowdown when using v2.11+ Keras optimizers on M1/M2 Macs. Falling back to the legacy Keras optimizer, i.e., `tf.keras.optimizers.legacy.Adam`.\n"
     ]
    },
    {
     "name": "stdout",
     "output_type": "stream",
     "text": [
      "Training model 1/5 with hyperparameters: {'lr': 0.004473088493711625, 'weights': 32}\n",
      "-------------------------------\n",
      "Training model for location: 1\n",
      "-------------------------------\n",
      "Epoch 1/100\n",
      "927/927 [==============================] - 1s 439us/step - loss: 276.0902 - val_loss: 138.1245\n",
      "Epoch 2/100\n",
      "927/927 [==============================] - 0s 382us/step - loss: 219.7957 - val_loss: 128.2468\n",
      "Epoch 3/100\n",
      "927/927 [==============================] - 0s 400us/step - loss: 214.8648 - val_loss: 125.2776\n",
      "Epoch 4/100\n",
      "927/927 [==============================] - 0s 377us/step - loss: 211.3756 - val_loss: 122.7772\n",
      "Epoch 5/100\n",
      "927/927 [==============================] - 0s 392us/step - loss: 208.1799 - val_loss: 116.1199\n",
      "Epoch 6/100\n",
      "927/927 [==============================] - 0s 381us/step - loss: 205.7984 - val_loss: 121.1661\n",
      "Epoch 7/100\n",
      "927/927 [==============================] - 0s 386us/step - loss: 203.7738 - val_loss: 113.7503\n",
      "Epoch 8/100\n",
      "927/927 [==============================] - 0s 381us/step - loss: 201.9826 - val_loss: 112.3284\n",
      "Epoch 9/100\n",
      "927/927 [==============================] - 0s 379us/step - loss: 200.9106 - val_loss: 111.2236\n",
      "Epoch 10/100\n",
      "927/927 [==============================] - 0s 406us/step - loss: 200.0058 - val_loss: 111.7090\n",
      "Epoch 11/100\n",
      "927/927 [==============================] - 0s 382us/step - loss: 199.1770 - val_loss: 113.4842\n",
      "Epoch 12/100\n",
      "927/927 [==============================] - 0s 379us/step - loss: 198.4715 - val_loss: 114.3188\n",
      "Epoch 13/100\n",
      "927/927 [==============================] - 0s 387us/step - loss: 197.4259 - val_loss: 111.0239\n",
      "Epoch 14/100\n",
      "927/927 [==============================] - 0s 384us/step - loss: 196.9862 - val_loss: 109.8921\n",
      "Epoch 15/100\n",
      "927/927 [==============================] - 0s 380us/step - loss: 197.3365 - val_loss: 110.7441\n",
      "Epoch 16/100\n",
      "927/927 [==============================] - 0s 380us/step - loss: 196.2183 - val_loss: 112.0755\n",
      "Epoch 17/100\n",
      "927/927 [==============================] - 0s 388us/step - loss: 195.8449 - val_loss: 111.0210\n",
      "Epoch 18/100\n",
      "927/927 [==============================] - 0s 386us/step - loss: 195.6529 - val_loss: 111.7577\n",
      "Epoch 19/100\n",
      "927/927 [==============================] - 0s 382us/step - loss: 194.8136 - val_loss: 110.9409\n",
      "Epoch 20/100\n",
      "927/927 [==============================] - 0s 380us/step - loss: 194.5218 - val_loss: 109.6553\n",
      "Epoch 21/100\n",
      "927/927 [==============================] - 0s 377us/step - loss: 194.6499 - val_loss: 108.9433\n",
      "Epoch 22/100\n",
      "927/927 [==============================] - 0s 381us/step - loss: 193.8945 - val_loss: 107.3869\n",
      "Epoch 23/100\n",
      "927/927 [==============================] - 0s 379us/step - loss: 194.1079 - val_loss: 109.4967\n",
      "Epoch 24/100\n",
      "927/927 [==============================] - 0s 387us/step - loss: 193.2505 - val_loss: 114.0264\n",
      "Epoch 25/100\n",
      "927/927 [==============================] - 0s 380us/step - loss: 193.7282 - val_loss: 110.3291\n",
      "Epoch 26/100\n",
      "927/927 [==============================] - 0s 379us/step - loss: 193.3095 - val_loss: 107.5489\n",
      "Epoch 27/100\n",
      "927/927 [==============================] - 0s 381us/step - loss: 192.8544 - val_loss: 114.4137\n",
      "Epoch 28/100\n",
      "927/927 [==============================] - 0s 381us/step - loss: 192.9403 - val_loss: 108.4307\n",
      "Epoch 29/100\n",
      "927/927 [==============================] - 0s 379us/step - loss: 192.3723 - val_loss: 110.1570\n",
      "Epoch 30/100\n",
      "927/927 [==============================] - 0s 405us/step - loss: 192.9994 - val_loss: 109.1403\n",
      "Epoch 31/100\n",
      "927/927 [==============================] - 0s 381us/step - loss: 191.7316 - val_loss: 110.7811\n",
      "Epoch 32/100\n",
      "927/927 [==============================] - 0s 382us/step - loss: 191.4765 - val_loss: 112.4410\n"
     ]
    },
    {
     "name": "stderr",
     "output_type": "stream",
     "text": [
      "/Users/odagraufferntsen/miniforge3/envs/ml/lib/python3.10/site-packages/keras/src/engine/training.py:3000: UserWarning: You are saving your model as an HDF5 file via `model.save()`. This file format is considered legacy. We recommend using instead the native Keras format, e.g. `model.save('my_model.keras')`.\n",
      "  saving_api.save_model(\n",
      "WARNING:absl:At this time, the v2.11+ optimizer `tf.keras.optimizers.Adam` runs slowly on M1/M2 Macs, please use the legacy Keras optimizer instead, located at `tf.keras.optimizers.legacy.Adam`.\n",
      "WARNING:absl:There is a known slowdown when using v2.11+ Keras optimizers on M1/M2 Macs. Falling back to the legacy Keras optimizer, i.e., `tf.keras.optimizers.legacy.Adam`.\n"
     ]
    },
    {
     "name": "stdout",
     "output_type": "stream",
     "text": [
      "Training model 2/5 with hyperparameters: {'lr': 0.0053098477944254876, 'weights': 96}\n",
      "-------------------------------\n",
      "Training model for location: 2\n",
      "-------------------------------\n",
      "Epoch 1/100\n",
      "927/927 [==============================] - 1s 469us/step - loss: 248.7746 - val_loss: 123.8853\n",
      "Epoch 2/100\n",
      "927/927 [==============================] - 0s 419us/step - loss: 211.2174 - val_loss: 117.4820\n",
      "Epoch 3/100\n",
      "927/927 [==============================] - 0s 418us/step - loss: 206.0809 - val_loss: 117.0215\n",
      "Epoch 4/100\n",
      "927/927 [==============================] - 0s 435us/step - loss: 203.5840 - val_loss: 118.0820\n",
      "Epoch 5/100\n",
      "927/927 [==============================] - 0s 414us/step - loss: 201.0128 - val_loss: 113.9838\n",
      "Epoch 6/100\n",
      "927/927 [==============================] - 0s 424us/step - loss: 198.4323 - val_loss: 113.8303\n",
      "Epoch 7/100\n",
      "927/927 [==============================] - 0s 430us/step - loss: 198.6653 - val_loss: 110.7719\n",
      "Epoch 8/100\n",
      "927/927 [==============================] - 0s 443us/step - loss: 195.9529 - val_loss: 112.5868\n",
      "Epoch 9/100\n",
      "927/927 [==============================] - 0s 451us/step - loss: 195.1792 - val_loss: 115.9240\n",
      "Epoch 10/100\n",
      "927/927 [==============================] - 0s 467us/step - loss: 195.1872 - val_loss: 111.1276\n",
      "Epoch 11/100\n",
      "927/927 [==============================] - 0s 439us/step - loss: 194.5661 - val_loss: 110.0523\n",
      "Epoch 12/100\n",
      "927/927 [==============================] - 0s 427us/step - loss: 193.6383 - val_loss: 107.9323\n",
      "Epoch 13/100\n",
      "927/927 [==============================] - 0s 432us/step - loss: 193.7890 - val_loss: 111.1716\n",
      "Epoch 14/100\n",
      "927/927 [==============================] - 0s 438us/step - loss: 192.5724 - val_loss: 110.2049\n",
      "Epoch 15/100\n",
      "927/927 [==============================] - 0s 441us/step - loss: 192.0372 - val_loss: 111.6369\n",
      "Epoch 16/100\n",
      "927/927 [==============================] - 0s 421us/step - loss: 191.4102 - val_loss: 117.7353\n",
      "Epoch 17/100\n",
      "927/927 [==============================] - 0s 433us/step - loss: 190.7935 - val_loss: 110.7923\n",
      "Epoch 18/100\n",
      "927/927 [==============================] - 0s 421us/step - loss: 190.5931 - val_loss: 112.5511\n",
      "Epoch 19/100\n",
      "927/927 [==============================] - 0s 431us/step - loss: 189.5760 - val_loss: 114.4777\n",
      "Epoch 20/100\n",
      "927/927 [==============================] - 0s 428us/step - loss: 190.3611 - val_loss: 112.5659\n",
      "Epoch 21/100\n",
      "927/927 [==============================] - 0s 421us/step - loss: 189.8800 - val_loss: 110.3125\n",
      "Epoch 22/100\n",
      "927/927 [==============================] - 0s 422us/step - loss: 188.1538 - val_loss: 112.3469\n",
      "Training model 3/5 with hyperparameters: {'lr': 0.008465707115576994, 'weights': 32}\n"
     ]
    },
    {
     "name": "stderr",
     "output_type": "stream",
     "text": [
      "WARNING:absl:At this time, the v2.11+ optimizer `tf.keras.optimizers.Adam` runs slowly on M1/M2 Macs, please use the legacy Keras optimizer instead, located at `tf.keras.optimizers.legacy.Adam`.\n",
      "WARNING:absl:There is a known slowdown when using v2.11+ Keras optimizers on M1/M2 Macs. Falling back to the legacy Keras optimizer, i.e., `tf.keras.optimizers.legacy.Adam`.\n"
     ]
    },
    {
     "name": "stdout",
     "output_type": "stream",
     "text": [
      "-------------------------------\n",
      "Training model for location: 3\n",
      "-------------------------------\n",
      "Epoch 1/100\n",
      "927/927 [==============================] - 1s 437us/step - loss: 251.6489 - val_loss: 130.2346\n",
      "Epoch 2/100\n",
      "927/927 [==============================] - 0s 412us/step - loss: 214.6574 - val_loss: 120.2957\n",
      "Epoch 3/100\n",
      "927/927 [==============================] - 0s 387us/step - loss: 208.4434 - val_loss: 118.9983\n",
      "Epoch 4/100\n",
      "927/927 [==============================] - 0s 385us/step - loss: 205.0314 - val_loss: 121.4515\n",
      "Epoch 5/100\n",
      "927/927 [==============================] - 0s 386us/step - loss: 204.1917 - val_loss: 112.7698\n",
      "Epoch 6/100\n",
      "927/927 [==============================] - 0s 384us/step - loss: 201.4026 - val_loss: 118.8891\n",
      "Epoch 7/100\n",
      "927/927 [==============================] - 0s 384us/step - loss: 200.2688 - val_loss: 119.1281\n",
      "Epoch 8/100\n",
      "927/927 [==============================] - 0s 386us/step - loss: 200.0700 - val_loss: 122.2882\n",
      "Epoch 9/100\n",
      "927/927 [==============================] - 0s 386us/step - loss: 198.5962 - val_loss: 114.4044\n",
      "Epoch 10/100\n",
      "927/927 [==============================] - 0s 389us/step - loss: 197.7205 - val_loss: 113.2347\n",
      "Epoch 11/100\n",
      "927/927 [==============================] - 0s 384us/step - loss: 198.1785 - val_loss: 117.4392\n",
      "Epoch 12/100\n",
      "927/927 [==============================] - 0s 390us/step - loss: 196.7554 - val_loss: 111.3477\n",
      "Epoch 13/100\n",
      "927/927 [==============================] - 0s 395us/step - loss: 196.1150 - val_loss: 110.7899\n",
      "Epoch 14/100\n",
      "927/927 [==============================] - 0s 388us/step - loss: 195.4848 - val_loss: 112.6494\n",
      "Epoch 15/100\n",
      "927/927 [==============================] - 0s 396us/step - loss: 195.8348 - val_loss: 109.9647\n",
      "Epoch 16/100\n",
      "927/927 [==============================] - 0s 395us/step - loss: 195.2536 - val_loss: 108.9786\n",
      "Epoch 17/100\n",
      "927/927 [==============================] - 0s 424us/step - loss: 194.6016 - val_loss: 113.0423\n",
      "Epoch 18/100\n",
      "927/927 [==============================] - 0s 376us/step - loss: 194.5130 - val_loss: 115.9010\n",
      "Epoch 19/100\n",
      "927/927 [==============================] - 0s 374us/step - loss: 194.7112 - val_loss: 118.0341\n",
      "Epoch 20/100\n",
      "927/927 [==============================] - 0s 459us/step - loss: 193.9902 - val_loss: 110.2645\n",
      "Epoch 21/100\n",
      "927/927 [==============================] - 0s 391us/step - loss: 193.8889 - val_loss: 109.3916\n",
      "Epoch 22/100\n",
      "927/927 [==============================] - 0s 376us/step - loss: 194.2599 - val_loss: 108.2583\n",
      "Epoch 23/100\n",
      "927/927 [==============================] - 0s 393us/step - loss: 194.1445 - val_loss: 114.2072\n",
      "Epoch 24/100\n",
      "927/927 [==============================] - 0s 474us/step - loss: 193.4570 - val_loss: 107.1147\n",
      "Epoch 25/100\n",
      "927/927 [==============================] - 0s 439us/step - loss: 193.8612 - val_loss: 110.5911\n",
      "Epoch 26/100\n",
      "927/927 [==============================] - 0s 378us/step - loss: 193.0276 - val_loss: 114.6632\n",
      "Epoch 27/100\n",
      "927/927 [==============================] - 0s 374us/step - loss: 193.7964 - val_loss: 107.9632\n",
      "Epoch 28/100\n",
      "927/927 [==============================] - 0s 372us/step - loss: 193.0366 - val_loss: 108.4972\n",
      "Epoch 29/100\n",
      "927/927 [==============================] - 0s 373us/step - loss: 192.7686 - val_loss: 108.3444\n",
      "Epoch 30/100\n",
      "927/927 [==============================] - 0s 373us/step - loss: 192.5170 - val_loss: 116.4340\n",
      "Epoch 31/100\n",
      "927/927 [==============================] - 0s 375us/step - loss: 192.2713 - val_loss: 108.2911\n",
      "Epoch 32/100\n",
      "927/927 [==============================] - 0s 375us/step - loss: 192.7540 - val_loss: 111.5675\n",
      "Epoch 33/100\n",
      "927/927 [==============================] - 0s 371us/step - loss: 192.0951 - val_loss: 109.9081\n",
      "Epoch 34/100\n",
      "927/927 [==============================] - 0s 374us/step - loss: 192.0336 - val_loss: 107.7757\n"
     ]
    },
    {
     "name": "stderr",
     "output_type": "stream",
     "text": [
      "WARNING:absl:At this time, the v2.11+ optimizer `tf.keras.optimizers.Adam` runs slowly on M1/M2 Macs, please use the legacy Keras optimizer instead, located at `tf.keras.optimizers.legacy.Adam`.\n",
      "WARNING:absl:There is a known slowdown when using v2.11+ Keras optimizers on M1/M2 Macs. Falling back to the legacy Keras optimizer, i.e., `tf.keras.optimizers.legacy.Adam`.\n"
     ]
    },
    {
     "name": "stdout",
     "output_type": "stream",
     "text": [
      "Training model 4/5 with hyperparameters: {'lr': 0.005576715224447768, 'weights': 128}\n",
      "-------------------------------\n",
      "Training model for location: 4\n",
      "-------------------------------\n",
      "Epoch 1/100\n",
      "927/927 [==============================] - 1s 476us/step - loss: 241.4877 - val_loss: 127.0957\n",
      "Epoch 2/100\n",
      "927/927 [==============================] - 0s 422us/step - loss: 210.2975 - val_loss: 118.5712\n",
      "Epoch 3/100\n",
      "927/927 [==============================] - 0s 419us/step - loss: 205.0360 - val_loss: 113.7099\n",
      "Epoch 4/100\n",
      "927/927 [==============================] - 0s 477us/step - loss: 202.5206 - val_loss: 116.1236\n",
      "Epoch 5/100\n",
      "927/927 [==============================] - 0s 425us/step - loss: 200.1844 - val_loss: 126.4150\n",
      "Epoch 6/100\n",
      "927/927 [==============================] - 0s 427us/step - loss: 199.8098 - val_loss: 111.6690\n",
      "Epoch 7/100\n",
      "927/927 [==============================] - 0s 422us/step - loss: 197.8071 - val_loss: 113.9067\n",
      "Epoch 8/100\n",
      "927/927 [==============================] - 0s 421us/step - loss: 195.7159 - val_loss: 123.7345\n",
      "Epoch 9/100\n",
      "927/927 [==============================] - 0s 419us/step - loss: 195.6912 - val_loss: 122.7774\n",
      "Epoch 10/100\n",
      "927/927 [==============================] - 0s 422us/step - loss: 194.6294 - val_loss: 109.7317\n",
      "Epoch 11/100\n",
      "927/927 [==============================] - 0s 421us/step - loss: 194.3772 - val_loss: 109.8016\n",
      "Epoch 12/100\n",
      "927/927 [==============================] - 0s 424us/step - loss: 193.7134 - val_loss: 112.7334\n",
      "Epoch 13/100\n",
      "927/927 [==============================] - 0s 424us/step - loss: 193.6188 - val_loss: 112.9776\n",
      "Epoch 14/100\n",
      "927/927 [==============================] - 0s 423us/step - loss: 192.2084 - val_loss: 115.0617\n",
      "Epoch 15/100\n",
      "927/927 [==============================] - 0s 430us/step - loss: 192.3767 - val_loss: 112.9615\n",
      "Epoch 16/100\n",
      "927/927 [==============================] - 0s 421us/step - loss: 192.1886 - val_loss: 110.5777\n",
      "Epoch 17/100\n",
      "927/927 [==============================] - 0s 423us/step - loss: 190.2314 - val_loss: 112.5676\n",
      "Epoch 18/100\n",
      "927/927 [==============================] - 0s 423us/step - loss: 190.8644 - val_loss: 111.3268\n",
      "Epoch 19/100\n",
      "927/927 [==============================] - 0s 425us/step - loss: 191.1219 - val_loss: 122.2904\n",
      "Epoch 20/100\n",
      "927/927 [==============================] - 0s 426us/step - loss: 189.2549 - val_loss: 113.0851\n"
     ]
    },
    {
     "name": "stderr",
     "output_type": "stream",
     "text": [
      "WARNING:absl:At this time, the v2.11+ optimizer `tf.keras.optimizers.Adam` runs slowly on M1/M2 Macs, please use the legacy Keras optimizer instead, located at `tf.keras.optimizers.legacy.Adam`.\n",
      "WARNING:absl:There is a known slowdown when using v2.11+ Keras optimizers on M1/M2 Macs. Falling back to the legacy Keras optimizer, i.e., `tf.keras.optimizers.legacy.Adam`.\n"
     ]
    },
    {
     "name": "stdout",
     "output_type": "stream",
     "text": [
      "Training model 5/5 with hyperparameters: {'lr': 0.005947010823550518, 'weights': 128}\n",
      "-------------------------------\n",
      "Training model for location: 5\n",
      "-------------------------------\n",
      "Epoch 1/100\n",
      "927/927 [==============================] - 1s 474us/step - loss: 241.4766 - val_loss: 127.9883\n",
      "Epoch 2/100\n",
      "927/927 [==============================] - 0s 420us/step - loss: 210.6402 - val_loss: 115.0637\n",
      "Epoch 3/100\n",
      "927/927 [==============================] - 0s 447us/step - loss: 206.1591 - val_loss: 125.4051\n",
      "Epoch 4/100\n",
      "927/927 [==============================] - 0s 419us/step - loss: 204.0596 - val_loss: 121.8807\n",
      "Epoch 5/100\n",
      "927/927 [==============================] - 0s 421us/step - loss: 200.5072 - val_loss: 113.7890\n",
      "Epoch 6/100\n",
      "927/927 [==============================] - 0s 466us/step - loss: 200.2430 - val_loss: 115.2669\n",
      "Epoch 7/100\n",
      "927/927 [==============================] - 0s 478us/step - loss: 197.0024 - val_loss: 111.0433\n",
      "Epoch 8/100\n",
      "927/927 [==============================] - 0s 454us/step - loss: 196.5576 - val_loss: 114.0739\n",
      "Epoch 9/100\n",
      "927/927 [==============================] - 0s 471us/step - loss: 195.7274 - val_loss: 111.8563\n",
      "Epoch 10/100\n",
      "927/927 [==============================] - 0s 433us/step - loss: 195.4829 - val_loss: 120.3212\n",
      "Epoch 11/100\n",
      "927/927 [==============================] - 0s 519us/step - loss: 194.2269 - val_loss: 111.8337\n",
      "Epoch 12/100\n",
      "927/927 [==============================] - 0s 438us/step - loss: 193.1200 - val_loss: 112.4925\n",
      "Epoch 13/100\n",
      "927/927 [==============================] - 0s 412us/step - loss: 192.1743 - val_loss: 113.1632\n",
      "Epoch 14/100\n",
      "927/927 [==============================] - 0s 417us/step - loss: 191.5728 - val_loss: 110.2199\n",
      "Epoch 15/100\n",
      "927/927 [==============================] - 0s 449us/step - loss: 190.8584 - val_loss: 113.6222\n",
      "Epoch 16/100\n",
      "927/927 [==============================] - 0s 423us/step - loss: 190.2218 - val_loss: 107.6817\n",
      "Epoch 17/100\n",
      "927/927 [==============================] - 0s 427us/step - loss: 190.3748 - val_loss: 109.3106\n",
      "Epoch 18/100\n",
      "927/927 [==============================] - 0s 429us/step - loss: 189.7394 - val_loss: 108.5297\n",
      "Epoch 19/100\n",
      "927/927 [==============================] - 0s 422us/step - loss: 188.3487 - val_loss: 110.4554\n",
      "Epoch 20/100\n",
      "927/927 [==============================] - 0s 421us/step - loss: 188.3715 - val_loss: 112.3632\n",
      "Epoch 21/100\n",
      "927/927 [==============================] - 0s 422us/step - loss: 187.4308 - val_loss: 110.0155\n",
      "Epoch 22/100\n",
      "927/927 [==============================] - 0s 450us/step - loss: 187.1097 - val_loss: 113.7438\n",
      "Epoch 23/100\n",
      "927/927 [==============================] - 0s 421us/step - loss: 186.7977 - val_loss: 111.4762\n",
      "Epoch 24/100\n",
      "927/927 [==============================] - 0s 423us/step - loss: 186.0320 - val_loss: 113.3327\n",
      "Epoch 25/100\n",
      "927/927 [==============================] - 0s 422us/step - loss: 185.6445 - val_loss: 109.0732\n",
      "Epoch 26/100\n",
      "927/927 [==============================] - 0s 422us/step - loss: 185.1375 - val_loss: 110.8543\n",
      "Training model 1/5 with hyperparameters: {'lr': 0.0030129639140684533, 'weights': 256}\n"
     ]
    },
    {
     "name": "stderr",
     "output_type": "stream",
     "text": [
      "WARNING:absl:At this time, the v2.11+ optimizer `tf.keras.optimizers.Adam` runs slowly on M1/M2 Macs, please use the legacy Keras optimizer instead, located at `tf.keras.optimizers.legacy.Adam`.\n",
      "WARNING:absl:There is a known slowdown when using v2.11+ Keras optimizers on M1/M2 Macs. Falling back to the legacy Keras optimizer, i.e., `tf.keras.optimizers.legacy.Adam`.\n"
     ]
    },
    {
     "name": "stdout",
     "output_type": "stream",
     "text": [
      "-------------------------------\n",
      "Training model for location: 1\n",
      "-------------------------------\n",
      "Epoch 1/100\n",
      "737/737 [==============================] - 1s 620us/step - loss: 37.6596 - val_loss: 18.5616\n",
      "Epoch 2/100\n",
      "737/737 [==============================] - 0s 561us/step - loss: 32.8180 - val_loss: 15.4272\n",
      "Epoch 3/100\n",
      "737/737 [==============================] - 0s 567us/step - loss: 32.1664 - val_loss: 15.6732\n",
      "Epoch 4/100\n",
      "737/737 [==============================] - 0s 557us/step - loss: 31.8221 - val_loss: 16.2589\n",
      "Epoch 5/100\n",
      "737/737 [==============================] - 0s 563us/step - loss: 31.6163 - val_loss: 16.2577\n",
      "Epoch 6/100\n",
      "737/737 [==============================] - 0s 563us/step - loss: 31.1216 - val_loss: 17.0088\n",
      "Epoch 7/100\n",
      "737/737 [==============================] - 0s 562us/step - loss: 30.7151 - val_loss: 15.6177\n",
      "Epoch 8/100\n",
      "737/737 [==============================] - 0s 567us/step - loss: 30.5459 - val_loss: 17.2854\n",
      "Epoch 9/100\n",
      "737/737 [==============================] - 0s 558us/step - loss: 30.2760 - val_loss: 16.8458\n",
      "Epoch 10/100\n",
      "737/737 [==============================] - 0s 563us/step - loss: 30.0303 - val_loss: 16.8714\n",
      "Epoch 11/100\n",
      "737/737 [==============================] - 0s 574us/step - loss: 29.5342 - val_loss: 15.8848\n",
      "Epoch 12/100\n",
      "737/737 [==============================] - 0s 566us/step - loss: 29.3904 - val_loss: 17.6983\n"
     ]
    },
    {
     "name": "stderr",
     "output_type": "stream",
     "text": [
      "WARNING:absl:At this time, the v2.11+ optimizer `tf.keras.optimizers.Adam` runs slowly on M1/M2 Macs, please use the legacy Keras optimizer instead, located at `tf.keras.optimizers.legacy.Adam`.\n",
      "WARNING:absl:There is a known slowdown when using v2.11+ Keras optimizers on M1/M2 Macs. Falling back to the legacy Keras optimizer, i.e., `tf.keras.optimizers.legacy.Adam`.\n"
     ]
    },
    {
     "name": "stdout",
     "output_type": "stream",
     "text": [
      "Training model 2/5 with hyperparameters: {'lr': 0.003893358549116366, 'weights': 128}\n",
      "-------------------------------\n",
      "Training model for location: 2\n",
      "-------------------------------\n",
      "Epoch 1/100\n",
      "737/737 [==============================] - 1s 507us/step - loss: 38.3507 - val_loss: 16.8151\n",
      "Epoch 2/100\n",
      "737/737 [==============================] - 0s 426us/step - loss: 32.6269 - val_loss: 15.6121\n",
      "Epoch 3/100\n",
      "737/737 [==============================] - 0s 425us/step - loss: 31.9730 - val_loss: 16.0933\n",
      "Epoch 4/100\n",
      "737/737 [==============================] - 0s 428us/step - loss: 31.8649 - val_loss: 16.6524\n",
      "Epoch 5/100\n",
      "737/737 [==============================] - 0s 428us/step - loss: 31.2149 - val_loss: 15.3273\n",
      "Epoch 6/100\n",
      "737/737 [==============================] - 0s 430us/step - loss: 31.2002 - val_loss: 16.3711\n",
      "Epoch 7/100\n",
      "737/737 [==============================] - 0s 449us/step - loss: 30.7000 - val_loss: 16.2669\n",
      "Epoch 8/100\n",
      "737/737 [==============================] - 0s 436us/step - loss: 30.3678 - val_loss: 17.8466\n",
      "Epoch 9/100\n",
      "737/737 [==============================] - 0s 442us/step - loss: 30.3651 - val_loss: 16.8801\n",
      "Epoch 10/100\n",
      "737/737 [==============================] - 0s 428us/step - loss: 30.2277 - val_loss: 16.5358\n",
      "Epoch 11/100\n",
      "737/737 [==============================] - 0s 430us/step - loss: 30.0078 - val_loss: 17.2356\n",
      "Epoch 12/100\n",
      "737/737 [==============================] - 0s 427us/step - loss: 29.8059 - val_loss: 17.3097\n",
      "Epoch 13/100\n",
      "737/737 [==============================] - 0s 427us/step - loss: 29.6835 - val_loss: 16.5773\n",
      "Epoch 14/100\n",
      "737/737 [==============================] - 0s 421us/step - loss: 29.5977 - val_loss: 17.9779\n",
      "Epoch 15/100\n",
      "737/737 [==============================] - 0s 417us/step - loss: 29.2568 - val_loss: 16.6295\n"
     ]
    },
    {
     "name": "stderr",
     "output_type": "stream",
     "text": [
      "WARNING:absl:At this time, the v2.11+ optimizer `tf.keras.optimizers.Adam` runs slowly on M1/M2 Macs, please use the legacy Keras optimizer instead, located at `tf.keras.optimizers.legacy.Adam`.\n",
      "WARNING:absl:There is a known slowdown when using v2.11+ Keras optimizers on M1/M2 Macs. Falling back to the legacy Keras optimizer, i.e., `tf.keras.optimizers.legacy.Adam`.\n"
     ]
    },
    {
     "name": "stdout",
     "output_type": "stream",
     "text": [
      "Training model 3/5 with hyperparameters: {'lr': 0.003731186390381951, 'weights': 128}\n",
      "-------------------------------\n",
      "Training model for location: 3\n",
      "-------------------------------\n",
      "Epoch 1/100\n",
      "737/737 [==============================] - 0s 482us/step - loss: 38.0738 - val_loss: 16.2507\n",
      "Epoch 2/100\n",
      "737/737 [==============================] - 0s 426us/step - loss: 32.7262 - val_loss: 18.0406\n",
      "Epoch 3/100\n",
      "737/737 [==============================] - 0s 423us/step - loss: 32.0707 - val_loss: 16.3494\n",
      "Epoch 4/100\n",
      "737/737 [==============================] - 0s 423us/step - loss: 31.6616 - val_loss: 17.1143\n",
      "Epoch 5/100\n",
      "737/737 [==============================] - 0s 428us/step - loss: 31.2800 - val_loss: 16.4116\n",
      "Epoch 6/100\n",
      "737/737 [==============================] - 0s 424us/step - loss: 31.1111 - val_loss: 15.7853\n",
      "Epoch 7/100\n",
      "737/737 [==============================] - 0s 423us/step - loss: 30.8200 - val_loss: 17.1571\n",
      "Epoch 8/100\n",
      "737/737 [==============================] - 0s 457us/step - loss: 30.6260 - val_loss: 15.9692\n",
      "Epoch 9/100\n",
      "737/737 [==============================] - 0s 432us/step - loss: 30.6526 - val_loss: 15.6793\n",
      "Epoch 10/100\n",
      "737/737 [==============================] - 0s 422us/step - loss: 30.4700 - val_loss: 16.1181\n",
      "Epoch 11/100\n",
      "737/737 [==============================] - 0s 424us/step - loss: 29.8541 - val_loss: 16.1429\n",
      "Epoch 12/100\n",
      "737/737 [==============================] - 0s 424us/step - loss: 29.9334 - val_loss: 16.1223\n",
      "Epoch 13/100\n",
      "737/737 [==============================] - 0s 422us/step - loss: 29.8177 - val_loss: 16.6665\n",
      "Epoch 14/100\n",
      "737/737 [==============================] - 0s 424us/step - loss: 29.5245 - val_loss: 15.6687\n",
      "Epoch 15/100\n",
      "737/737 [==============================] - 0s 424us/step - loss: 29.2490 - val_loss: 15.9088\n",
      "Epoch 16/100\n",
      "737/737 [==============================] - 0s 423us/step - loss: 29.2258 - val_loss: 16.1630\n",
      "Epoch 17/100\n",
      "737/737 [==============================] - 0s 424us/step - loss: 28.9572 - val_loss: 16.0815\n",
      "Epoch 18/100\n",
      "737/737 [==============================] - 0s 421us/step - loss: 28.8202 - val_loss: 15.9045\n",
      "Epoch 19/100\n",
      "737/737 [==============================] - 0s 423us/step - loss: 28.6386 - val_loss: 15.6252\n",
      "Epoch 20/100\n",
      "737/737 [==============================] - 0s 424us/step - loss: 28.7101 - val_loss: 16.2355\n",
      "Epoch 21/100\n",
      "737/737 [==============================] - 0s 536us/step - loss: 28.7404 - val_loss: 16.5335\n",
      "Epoch 22/100\n",
      "737/737 [==============================] - 0s 428us/step - loss: 28.5236 - val_loss: 16.3556\n",
      "Epoch 23/100\n",
      "737/737 [==============================] - 0s 422us/step - loss: 28.3881 - val_loss: 16.6696\n",
      "Epoch 24/100\n",
      "737/737 [==============================] - 0s 420us/step - loss: 28.2331 - val_loss: 18.6542\n",
      "Epoch 25/100\n",
      "737/737 [==============================] - 0s 421us/step - loss: 28.1083 - val_loss: 16.4210\n",
      "Epoch 26/100\n",
      "737/737 [==============================] - 0s 421us/step - loss: 27.8405 - val_loss: 16.8106\n",
      "Epoch 27/100\n",
      "737/737 [==============================] - 0s 418us/step - loss: 27.6277 - val_loss: 16.8267\n",
      "Epoch 28/100\n",
      "737/737 [==============================] - 0s 453us/step - loss: 27.5485 - val_loss: 17.0445\n",
      "Epoch 29/100\n",
      "737/737 [==============================] - 0s 422us/step - loss: 27.3946 - val_loss: 17.0014\n"
     ]
    },
    {
     "name": "stderr",
     "output_type": "stream",
     "text": [
      "WARNING:absl:At this time, the v2.11+ optimizer `tf.keras.optimizers.Adam` runs slowly on M1/M2 Macs, please use the legacy Keras optimizer instead, located at `tf.keras.optimizers.legacy.Adam`.\n",
      "WARNING:absl:There is a known slowdown when using v2.11+ Keras optimizers on M1/M2 Macs. Falling back to the legacy Keras optimizer, i.e., `tf.keras.optimizers.legacy.Adam`.\n"
     ]
    },
    {
     "name": "stdout",
     "output_type": "stream",
     "text": [
      "Training model 4/5 with hyperparameters: {'lr': 0.0025391065791536475, 'weights': 256}\n",
      "-------------------------------\n",
      "Training model for location: 4\n",
      "-------------------------------\n",
      "Epoch 1/100\n",
      "737/737 [==============================] - 1s 602us/step - loss: 38.8018 - val_loss: 17.1991\n",
      "Epoch 2/100\n",
      "737/737 [==============================] - 0s 541us/step - loss: 32.8721 - val_loss: 17.3129\n",
      "Epoch 3/100\n",
      "737/737 [==============================] - 0s 538us/step - loss: 31.9997 - val_loss: 15.3772\n",
      "Epoch 4/100\n",
      "737/737 [==============================] - 0s 547us/step - loss: 31.6942 - val_loss: 15.8144\n",
      "Epoch 5/100\n",
      "737/737 [==============================] - 0s 542us/step - loss: 31.5201 - val_loss: 16.6100\n",
      "Epoch 6/100\n",
      "737/737 [==============================] - 0s 545us/step - loss: 30.7102 - val_loss: 16.5508\n",
      "Epoch 7/100\n",
      "737/737 [==============================] - 0s 540us/step - loss: 30.5959 - val_loss: 16.5202\n",
      "Epoch 8/100\n",
      "737/737 [==============================] - 0s 545us/step - loss: 30.2201 - val_loss: 16.1172\n",
      "Epoch 9/100\n",
      "737/737 [==============================] - 0s 543us/step - loss: 30.2833 - val_loss: 17.2073\n",
      "Epoch 10/100\n",
      "737/737 [==============================] - 0s 543us/step - loss: 29.7440 - val_loss: 16.6681\n",
      "Epoch 11/100\n",
      "737/737 [==============================] - 0s 541us/step - loss: 29.7347 - val_loss: 16.8614\n",
      "Epoch 12/100\n",
      "737/737 [==============================] - 0s 541us/step - loss: 29.3960 - val_loss: 17.1084\n",
      "Epoch 13/100\n",
      "737/737 [==============================] - 0s 551us/step - loss: 29.4449 - val_loss: 17.2058\n"
     ]
    },
    {
     "name": "stderr",
     "output_type": "stream",
     "text": [
      "WARNING:absl:At this time, the v2.11+ optimizer `tf.keras.optimizers.Adam` runs slowly on M1/M2 Macs, please use the legacy Keras optimizer instead, located at `tf.keras.optimizers.legacy.Adam`.\n",
      "WARNING:absl:There is a known slowdown when using v2.11+ Keras optimizers on M1/M2 Macs. Falling back to the legacy Keras optimizer, i.e., `tf.keras.optimizers.legacy.Adam`.\n"
     ]
    },
    {
     "name": "stdout",
     "output_type": "stream",
     "text": [
      "Training model 5/5 with hyperparameters: {'lr': 0.0029584356432203686, 'weights': 128}\n",
      "-------------------------------\n",
      "Training model for location: 5\n",
      "-------------------------------\n",
      "Epoch 1/100\n",
      "737/737 [==============================] - 1s 501us/step - loss: 39.2856 - val_loss: 16.9031\n",
      "Epoch 2/100\n",
      "737/737 [==============================] - 0s 425us/step - loss: 32.5544 - val_loss: 15.6875\n",
      "Epoch 3/100\n",
      "737/737 [==============================] - 0s 427us/step - loss: 32.0451 - val_loss: 15.8926\n",
      "Epoch 4/100\n",
      "737/737 [==============================] - 0s 430us/step - loss: 31.7558 - val_loss: 15.9773\n",
      "Epoch 5/100\n",
      "737/737 [==============================] - 0s 426us/step - loss: 31.2052 - val_loss: 16.7842\n",
      "Epoch 6/100\n",
      "737/737 [==============================] - 0s 428us/step - loss: 30.9249 - val_loss: 16.5780\n",
      "Epoch 7/100\n",
      "737/737 [==============================] - 0s 429us/step - loss: 30.7223 - val_loss: 16.0610\n",
      "Epoch 8/100\n",
      "737/737 [==============================] - 0s 437us/step - loss: 30.5494 - val_loss: 15.5970\n",
      "Epoch 9/100\n",
      "737/737 [==============================] - 0s 427us/step - loss: 30.3226 - val_loss: 16.9811\n",
      "Epoch 10/100\n",
      "737/737 [==============================] - 0s 439us/step - loss: 30.0888 - val_loss: 16.9456\n",
      "Epoch 11/100\n",
      "737/737 [==============================] - 0s 430us/step - loss: 29.8444 - val_loss: 17.0676\n",
      "Epoch 12/100\n",
      "737/737 [==============================] - 0s 430us/step - loss: 29.6377 - val_loss: 17.2831\n",
      "Epoch 13/100\n",
      "737/737 [==============================] - 0s 435us/step - loss: 29.6465 - val_loss: 15.9594\n",
      "Epoch 14/100\n",
      "737/737 [==============================] - 0s 434us/step - loss: 29.4499 - val_loss: 16.1307\n",
      "Epoch 15/100\n",
      "737/737 [==============================] - 0s 428us/step - loss: 29.3022 - val_loss: 17.4213\n",
      "Epoch 16/100\n",
      "737/737 [==============================] - 0s 464us/step - loss: 29.2452 - val_loss: 16.7340\n",
      "Epoch 17/100\n",
      "737/737 [==============================] - 0s 434us/step - loss: 28.9838 - val_loss: 16.6782\n",
      "Epoch 18/100\n",
      "737/737 [==============================] - 0s 494us/step - loss: 28.9172 - val_loss: 16.1329\n"
     ]
    },
    {
     "name": "stderr",
     "output_type": "stream",
     "text": [
      "WARNING:absl:At this time, the v2.11+ optimizer `tf.keras.optimizers.Adam` runs slowly on M1/M2 Macs, please use the legacy Keras optimizer instead, located at `tf.keras.optimizers.legacy.Adam`.\n",
      "WARNING:absl:There is a known slowdown when using v2.11+ Keras optimizers on M1/M2 Macs. Falling back to the legacy Keras optimizer, i.e., `tf.keras.optimizers.legacy.Adam`.\n"
     ]
    },
    {
     "name": "stdout",
     "output_type": "stream",
     "text": [
      "Training model 1/5 with hyperparameters: {'lr': 0.005927371786065072, 'weights': 64}\n",
      "-------------------------------\n",
      "Training model for location: 1\n",
      "-------------------------------\n",
      "Epoch 1/100\n",
      "594/594 [==============================] - 0s 477us/step - loss: 33.8906 - val_loss: 23.5652\n",
      "Epoch 2/100\n",
      "594/594 [==============================] - 0s 398us/step - loss: 27.8539 - val_loss: 22.2821\n",
      "Epoch 3/100\n",
      "594/594 [==============================] - 0s 399us/step - loss: 27.0363 - val_loss: 22.3468\n",
      "Epoch 4/100\n",
      "594/594 [==============================] - 0s 396us/step - loss: 26.8564 - val_loss: 23.5870\n",
      "Epoch 5/100\n",
      "594/594 [==============================] - 0s 406us/step - loss: 26.4139 - val_loss: 23.5240\n",
      "Epoch 6/100\n",
      "594/594 [==============================] - 0s 439us/step - loss: 26.3916 - val_loss: 20.1719\n",
      "Epoch 7/100\n",
      "594/594 [==============================] - 0s 394us/step - loss: 26.1285 - val_loss: 21.6069\n",
      "Epoch 8/100\n",
      "594/594 [==============================] - 0s 399us/step - loss: 25.9010 - val_loss: 22.3717\n",
      "Epoch 9/100\n",
      "594/594 [==============================] - 0s 393us/step - loss: 25.6923 - val_loss: 20.3173\n",
      "Epoch 10/100\n",
      "594/594 [==============================] - 0s 396us/step - loss: 25.5112 - val_loss: 22.5890\n",
      "Epoch 11/100\n",
      "594/594 [==============================] - 0s 384us/step - loss: 25.3914 - val_loss: 20.5966\n",
      "Epoch 12/100\n",
      "594/594 [==============================] - 0s 397us/step - loss: 25.3237 - val_loss: 24.7435\n",
      "Epoch 13/100\n",
      "594/594 [==============================] - 0s 394us/step - loss: 25.2487 - val_loss: 20.7671\n",
      "Epoch 14/100\n",
      "594/594 [==============================] - 0s 394us/step - loss: 25.2194 - val_loss: 23.1645\n",
      "Epoch 15/100\n",
      "594/594 [==============================] - 0s 395us/step - loss: 24.8888 - val_loss: 21.4729\n",
      "Epoch 16/100\n",
      "594/594 [==============================] - 0s 399us/step - loss: 24.8173 - val_loss: 20.2225\n",
      "Training model 2/5 with hyperparameters: {'lr': 0.007074144306381341, 'weights': 25}\n"
     ]
    },
    {
     "name": "stderr",
     "output_type": "stream",
     "text": [
      "WARNING:absl:At this time, the v2.11+ optimizer `tf.keras.optimizers.Adam` runs slowly on M1/M2 Macs, please use the legacy Keras optimizer instead, located at `tf.keras.optimizers.legacy.Adam`.\n",
      "WARNING:absl:There is a known slowdown when using v2.11+ Keras optimizers on M1/M2 Macs. Falling back to the legacy Keras optimizer, i.e., `tf.keras.optimizers.legacy.Adam`.\n"
     ]
    },
    {
     "name": "stdout",
     "output_type": "stream",
     "text": [
      "-------------------------------\n",
      "Training model for location: 2\n",
      "-------------------------------\n",
      "Epoch 1/100\n",
      "594/594 [==============================] - 0s 460us/step - loss: 34.8793 - val_loss: 23.8151\n",
      "Epoch 2/100\n",
      "594/594 [==============================] - 0s 394us/step - loss: 28.1680 - val_loss: 23.6595\n",
      "Epoch 3/100\n",
      "594/594 [==============================] - 0s 463us/step - loss: 27.3541 - val_loss: 22.9502\n",
      "Epoch 4/100\n",
      "594/594 [==============================] - 0s 402us/step - loss: 27.0266 - val_loss: 24.5585\n",
      "Epoch 5/100\n",
      "594/594 [==============================] - 0s 376us/step - loss: 26.7604 - val_loss: 22.9760\n",
      "Epoch 6/100\n",
      "594/594 [==============================] - 0s 378us/step - loss: 26.5672 - val_loss: 21.3904\n",
      "Epoch 7/100\n",
      "594/594 [==============================] - 0s 374us/step - loss: 26.4117 - val_loss: 21.8467\n",
      "Epoch 8/100\n",
      "594/594 [==============================] - 0s 374us/step - loss: 26.1535 - val_loss: 22.6569\n",
      "Epoch 9/100\n",
      "594/594 [==============================] - 0s 385us/step - loss: 26.0912 - val_loss: 21.6563\n",
      "Epoch 10/100\n",
      "594/594 [==============================] - 0s 408us/step - loss: 25.9157 - val_loss: 22.8230\n",
      "Epoch 11/100\n",
      "594/594 [==============================] - 0s 373us/step - loss: 25.6688 - val_loss: 21.7591\n",
      "Epoch 12/100\n",
      "594/594 [==============================] - 0s 370us/step - loss: 25.6453 - val_loss: 22.9158\n",
      "Epoch 13/100\n",
      "594/594 [==============================] - 0s 375us/step - loss: 25.5537 - val_loss: 20.5800\n",
      "Epoch 14/100\n",
      "594/594 [==============================] - 0s 376us/step - loss: 25.5843 - val_loss: 21.2477\n",
      "Epoch 15/100\n",
      "594/594 [==============================] - 0s 418us/step - loss: 25.2918 - val_loss: 21.1220\n",
      "Epoch 16/100\n",
      "594/594 [==============================] - 0s 370us/step - loss: 25.1621 - val_loss: 22.4038\n",
      "Epoch 17/100\n",
      "594/594 [==============================] - 0s 376us/step - loss: 25.1919 - val_loss: 21.9737\n",
      "Epoch 18/100\n",
      "594/594 [==============================] - 0s 372us/step - loss: 25.0757 - val_loss: 19.9671\n",
      "Epoch 19/100\n",
      "594/594 [==============================] - 0s 375us/step - loss: 25.0901 - val_loss: 21.9600\n",
      "Epoch 20/100\n",
      "594/594 [==============================] - 0s 383us/step - loss: 24.9748 - val_loss: 19.9609\n",
      "Epoch 21/100\n",
      "594/594 [==============================] - 0s 384us/step - loss: 24.9175 - val_loss: 21.2922\n",
      "Epoch 22/100\n",
      "594/594 [==============================] - 0s 372us/step - loss: 24.7980 - val_loss: 21.4400\n",
      "Epoch 23/100\n",
      "594/594 [==============================] - 0s 372us/step - loss: 24.8038 - val_loss: 21.8666\n",
      "Epoch 24/100\n",
      "594/594 [==============================] - 0s 392us/step - loss: 24.6849 - val_loss: 22.4574\n",
      "Epoch 25/100\n",
      "594/594 [==============================] - 0s 378us/step - loss: 24.7095 - val_loss: 22.3793\n",
      "Epoch 26/100\n",
      "594/594 [==============================] - 0s 385us/step - loss: 24.6600 - val_loss: 20.9906\n",
      "Epoch 27/100\n",
      "594/594 [==============================] - 0s 403us/step - loss: 24.7709 - val_loss: 22.8655\n",
      "Epoch 28/100\n",
      "594/594 [==============================] - 0s 375us/step - loss: 24.5804 - val_loss: 22.6821\n",
      "Epoch 29/100\n",
      "594/594 [==============================] - 0s 374us/step - loss: 24.5389 - val_loss: 21.9081\n",
      "Epoch 30/100\n",
      "594/594 [==============================] - 0s 385us/step - loss: 24.5299 - val_loss: 21.5666\n"
     ]
    },
    {
     "name": "stderr",
     "output_type": "stream",
     "text": [
      "WARNING:absl:At this time, the v2.11+ optimizer `tf.keras.optimizers.Adam` runs slowly on M1/M2 Macs, please use the legacy Keras optimizer instead, located at `tf.keras.optimizers.legacy.Adam`.\n",
      "WARNING:absl:There is a known slowdown when using v2.11+ Keras optimizers on M1/M2 Macs. Falling back to the legacy Keras optimizer, i.e., `tf.keras.optimizers.legacy.Adam`.\n"
     ]
    },
    {
     "name": "stdout",
     "output_type": "stream",
     "text": [
      "Training model 3/5 with hyperparameters: {'lr': 0.00454047427700079, 'weights': 128}\n",
      "-------------------------------\n",
      "Training model for location: 3\n",
      "-------------------------------\n",
      "Epoch 1/100\n",
      "594/594 [==============================] - 0s 555us/step - loss: 33.3056 - val_loss: 24.1027\n",
      "Epoch 2/100\n",
      "594/594 [==============================] - 0s 498us/step - loss: 27.5782 - val_loss: 19.8015\n",
      "Epoch 3/100\n",
      "594/594 [==============================] - 0s 473us/step - loss: 27.2006 - val_loss: 21.3350\n",
      "Epoch 4/100\n",
      "594/594 [==============================] - 0s 475us/step - loss: 26.9477 - val_loss: 22.5564\n",
      "Epoch 5/100\n",
      "594/594 [==============================] - 0s 436us/step - loss: 26.3599 - val_loss: 22.1091\n",
      "Epoch 6/100\n",
      "594/594 [==============================] - 0s 432us/step - loss: 26.0069 - val_loss: 20.8826\n",
      "Epoch 7/100\n",
      "594/594 [==============================] - 0s 433us/step - loss: 25.6072 - val_loss: 22.0285\n",
      "Epoch 8/100\n",
      "594/594 [==============================] - 0s 431us/step - loss: 25.4905 - val_loss: 23.1394\n",
      "Epoch 9/100\n",
      "594/594 [==============================] - 0s 436us/step - loss: 25.1389 - val_loss: 22.6557\n",
      "Epoch 10/100\n",
      "594/594 [==============================] - 0s 432us/step - loss: 24.9324 - val_loss: 21.2508\n",
      "Epoch 11/100\n",
      "594/594 [==============================] - 0s 431us/step - loss: 24.9105 - val_loss: 22.3154\n",
      "Epoch 12/100\n",
      "594/594 [==============================] - 0s 432us/step - loss: 24.5065 - val_loss: 20.5864\n"
     ]
    },
    {
     "name": "stderr",
     "output_type": "stream",
     "text": [
      "WARNING:absl:At this time, the v2.11+ optimizer `tf.keras.optimizers.Adam` runs slowly on M1/M2 Macs, please use the legacy Keras optimizer instead, located at `tf.keras.optimizers.legacy.Adam`.\n",
      "WARNING:absl:There is a known slowdown when using v2.11+ Keras optimizers on M1/M2 Macs. Falling back to the legacy Keras optimizer, i.e., `tf.keras.optimizers.legacy.Adam`.\n"
     ]
    },
    {
     "name": "stdout",
     "output_type": "stream",
     "text": [
      "Training model 4/5 with hyperparameters: {'lr': 0.0074360786549823275, 'weights': 160}\n",
      "-------------------------------\n",
      "Training model for location: 4\n",
      "-------------------------------\n",
      "Epoch 1/100\n",
      "594/594 [==============================] - 0s 522us/step - loss: 31.6779 - val_loss: 22.7766\n",
      "Epoch 2/100\n",
      "594/594 [==============================] - 0s 441us/step - loss: 27.8160 - val_loss: 22.8748\n",
      "Epoch 3/100\n",
      "594/594 [==============================] - 0s 440us/step - loss: 27.2179 - val_loss: 21.0195\n",
      "Epoch 4/100\n",
      "594/594 [==============================] - 0s 440us/step - loss: 26.6470 - val_loss: 23.1019\n",
      "Epoch 5/100\n",
      "594/594 [==============================] - 0s 440us/step - loss: 26.1741 - val_loss: 21.0511\n",
      "Epoch 6/100\n",
      "594/594 [==============================] - 0s 450us/step - loss: 26.1350 - val_loss: 20.6066\n",
      "Epoch 7/100\n",
      "594/594 [==============================] - 0s 441us/step - loss: 25.8356 - val_loss: 21.7652\n",
      "Epoch 8/100\n",
      "594/594 [==============================] - 0s 441us/step - loss: 25.2229 - val_loss: 23.2003\n",
      "Epoch 9/100\n",
      "594/594 [==============================] - 0s 440us/step - loss: 25.0195 - val_loss: 21.7116\n",
      "Epoch 10/100\n",
      "594/594 [==============================] - 0s 445us/step - loss: 24.7215 - val_loss: 22.9666\n",
      "Epoch 11/100\n",
      "594/594 [==============================] - 0s 439us/step - loss: 24.6512 - val_loss: 25.8281\n",
      "Epoch 12/100\n",
      "594/594 [==============================] - 0s 441us/step - loss: 24.1628 - val_loss: 25.9099\n",
      "Epoch 13/100\n",
      "594/594 [==============================] - 0s 441us/step - loss: 24.2845 - val_loss: 24.2975\n",
      "Epoch 14/100\n",
      "594/594 [==============================] - 0s 441us/step - loss: 23.8046 - val_loss: 22.5836\n",
      "Epoch 15/100\n",
      "594/594 [==============================] - 0s 442us/step - loss: 23.6945 - val_loss: 22.2647\n",
      "Epoch 16/100\n",
      "594/594 [==============================] - 0s 443us/step - loss: 23.5266 - val_loss: 22.5855\n"
     ]
    },
    {
     "name": "stderr",
     "output_type": "stream",
     "text": [
      "WARNING:absl:At this time, the v2.11+ optimizer `tf.keras.optimizers.Adam` runs slowly on M1/M2 Macs, please use the legacy Keras optimizer instead, located at `tf.keras.optimizers.legacy.Adam`.\n",
      "WARNING:absl:There is a known slowdown when using v2.11+ Keras optimizers on M1/M2 Macs. Falling back to the legacy Keras optimizer, i.e., `tf.keras.optimizers.legacy.Adam`.\n"
     ]
    },
    {
     "name": "stdout",
     "output_type": "stream",
     "text": [
      "Training model 5/5 with hyperparameters: {'lr': 0.006882815000916854, 'weights': 128}\n",
      "-------------------------------\n",
      "Training model for location: 5\n",
      "-------------------------------\n",
      "Epoch 1/100\n",
      "594/594 [==============================] - 0s 499us/step - loss: 32.1159 - val_loss: 21.5937\n",
      "Epoch 2/100\n",
      "594/594 [==============================] - 0s 425us/step - loss: 27.8885 - val_loss: 19.9571\n",
      "Epoch 3/100\n",
      "594/594 [==============================] - 0s 424us/step - loss: 27.1369 - val_loss: 22.2720\n",
      "Epoch 4/100\n",
      "594/594 [==============================] - 0s 425us/step - loss: 26.6827 - val_loss: 24.6873\n",
      "Epoch 5/100\n",
      "594/594 [==============================] - 0s 421us/step - loss: 26.7951 - val_loss: 23.9972\n",
      "Epoch 6/100\n",
      "594/594 [==============================] - 0s 425us/step - loss: 26.2130 - val_loss: 22.1705\n",
      "Epoch 7/100\n",
      "594/594 [==============================] - 0s 463us/step - loss: 25.7170 - val_loss: 21.5968\n",
      "Epoch 8/100\n",
      "594/594 [==============================] - 0s 425us/step - loss: 25.6511 - val_loss: 19.6835\n",
      "Epoch 9/100\n",
      "594/594 [==============================] - 0s 431us/step - loss: 25.1069 - val_loss: 23.5539\n",
      "Epoch 10/100\n",
      "594/594 [==============================] - 0s 435us/step - loss: 25.0778 - val_loss: 21.1849\n",
      "Epoch 11/100\n",
      "594/594 [==============================] - 0s 424us/step - loss: 24.7230 - val_loss: 22.4232\n",
      "Epoch 12/100\n",
      "594/594 [==============================] - 0s 424us/step - loss: 24.3811 - val_loss: 22.5899\n",
      "Epoch 13/100\n",
      "594/594 [==============================] - 0s 427us/step - loss: 24.2741 - val_loss: 23.1184\n",
      "Epoch 14/100\n",
      "594/594 [==============================] - 0s 426us/step - loss: 24.1298 - val_loss: 23.2878\n",
      "Epoch 15/100\n",
      "594/594 [==============================] - 0s 427us/step - loss: 23.8766 - val_loss: 22.5917\n",
      "Epoch 16/100\n",
      "594/594 [==============================] - 0s 434us/step - loss: 23.9758 - val_loss: 21.1831\n",
      "Epoch 17/100\n",
      "594/594 [==============================] - 0s 429us/step - loss: 23.7565 - val_loss: 22.2936\n",
      "Epoch 18/100\n",
      "594/594 [==============================] - 0s 428us/step - loss: 23.3187 - val_loss: 21.9818\n"
     ]
    }
   ],
   "source": [
    "hyperparams_list_A = [\n",
    "{'lr': 0.004473088493711625, 'weights': 32},\n",
    "{'lr': 0.0053098477944254876, 'weights': 96},\n",
    "{'lr': 0.008465707115576994, 'weights': 32},\n",
    "{'lr': 0.005576715224447768, 'weights': 128},\n",
    "{'lr': 0.005947010823550518, 'weights': 128}\n",
    "]\n",
    "\n",
    "hyperparams_list_B = [\n",
    "{'lr': 0.0030129639140684533, 'weights': 256},\n",
    "{'lr': 0.003893358549116366, 'weights': 128},\n",
    "{'lr': 0.003731186390381951, 'weights': 128},\n",
    "{'lr': 0.0025391065791536475, 'weights': 256},\n",
    "{'lr': 0.0029584356432203686, 'weights': 128}\n",
    "]\n",
    "\n",
    "\n",
    "hyperparams_list_C = [\n",
    "{'lr': 0.005927371786065072, 'weights': 64},\n",
    "{'lr': 0.007074144306381341, 'weights': 25},\n",
    "{'lr': 0.00454047427700079, 'weights': 128},\n",
    "{'lr': 0.0074360786549823275, 'weights': 160},\n",
    "{'lr': 0.006882815000916854, 'weights': 128}\n",
    "]\n",
    "\n",
    "# This is where we traiend the multiple models\n",
    "models_A = train_multiple_models(X_train_A, y_train_A, X_val_A, y_val_A, 'models/model_location_A', hyperparams_list_A)\n",
    "models_B = train_multiple_models(X_train_B, y_train_B, X_val_B, y_val_B, 'models/model_location_B', hyperparams_list_B)\n",
    "models_C = train_multiple_models(X_train_C, y_train_C, X_val_C, y_val_C, 'models/model_location_C', hyperparams_list_C)"
   ]
  },
  {
   "cell_type": "markdown",
   "id": "755e2caa",
   "metadata": {},
   "source": [
    "## Stack MLP models\n",
    "After optuna gave us the hyperparameters we tried to stack the different models that we had trained."
   ]
  },
  {
   "cell_type": "code",
   "execution_count": 180,
   "id": "e720bc99",
   "metadata": {},
   "outputs": [
    {
     "name": "stdout",
     "output_type": "stream",
     "text": [
      "927/927 [==============================] - 0s 221us/step\n",
      "927/927 [==============================] - 0s 224us/step\n",
      "927/927 [==============================] - 0s 212us/step\n",
      "927/927 [==============================] - 0s 228us/step\n",
      "927/927 [==============================] - 0s 226us/step\n",
      "138/138 [==============================] - 0s 229us/step\n",
      "138/138 [==============================] - 0s 239us/step\n",
      "138/138 [==============================] - 0s 223us/step\n",
      "138/138 [==============================] - 0s 227us/step\n",
      "138/138 [==============================] - 0s 244us/step\n",
      "737/737 [==============================] - 0s 263us/step\n",
      "737/737 [==============================] - 0s 228us/step\n",
      "737/737 [==============================] - 0s 223us/step\n",
      "737/737 [==============================] - 0s 280us/step\n",
      "737/737 [==============================] - 0s 229us/step\n",
      "112/112 [==============================] - 0s 270us/step\n",
      "112/112 [==============================] - 0s 231us/step\n",
      "112/112 [==============================] - 0s 242us/step\n",
      "112/112 [==============================] - 0s 270us/step\n",
      "112/112 [==============================] - 0s 239us/step\n",
      "594/594 [==============================] - 0s 218us/step\n",
      "594/594 [==============================] - 0s 212us/step\n",
      "594/594 [==============================] - 0s 223us/step\n",
      "594/594 [==============================] - 0s 229us/step\n",
      "594/594 [==============================] - 0s 223us/step\n",
      "91/91 [==============================] - 0s 229us/step\n",
      "91/91 [==============================] - 0s 231us/step\n",
      "91/91 [==============================] - 0s 240us/step\n",
      "91/91 [==============================] - 0s 246us/step\n",
      "91/91 [==============================] - 0s 238us/step\n"
     ]
    },
    {
     "ename": "InvalidArgumentError",
     "evalue": "Graph execution error:\n\nDetected at node 'sequential_3045/dense_9135/Relu' defined at (most recent call last):\n    File \"/Users/odagraufferntsen/miniforge3/envs/ml/lib/python3.10/runpy.py\", line 196, in _run_module_as_main\n      return _run_code(code, main_globals, None,\n    File \"/Users/odagraufferntsen/miniforge3/envs/ml/lib/python3.10/runpy.py\", line 86, in _run_code\n      exec(code, run_globals)\n    File \"/Users/odagraufferntsen/miniforge3/envs/ml/lib/python3.10/site-packages/ipykernel_launcher.py\", line 17, in <module>\n      app.launch_new_instance()\n    File \"/Users/odagraufferntsen/miniforge3/envs/ml/lib/python3.10/site-packages/traitlets/config/application.py\", line 1053, in launch_instance\n      app.start()\n    File \"/Users/odagraufferntsen/miniforge3/envs/ml/lib/python3.10/site-packages/ipykernel/kernelapp.py\", line 737, in start\n      self.io_loop.start()\n    File \"/Users/odagraufferntsen/miniforge3/envs/ml/lib/python3.10/site-packages/tornado/platform/asyncio.py\", line 195, in start\n      self.asyncio_loop.run_forever()\n    File \"/Users/odagraufferntsen/miniforge3/envs/ml/lib/python3.10/asyncio/base_events.py\", line 603, in run_forever\n      self._run_once()\n    File \"/Users/odagraufferntsen/miniforge3/envs/ml/lib/python3.10/asyncio/base_events.py\", line 1909, in _run_once\n      handle._run()\n    File \"/Users/odagraufferntsen/miniforge3/envs/ml/lib/python3.10/asyncio/events.py\", line 80, in _run\n      self._context.run(self._callback, *self._args)\n    File \"/Users/odagraufferntsen/miniforge3/envs/ml/lib/python3.10/site-packages/ipykernel/kernelbase.py\", line 524, in dispatch_queue\n      await self.process_one()\n    File \"/Users/odagraufferntsen/miniforge3/envs/ml/lib/python3.10/site-packages/ipykernel/kernelbase.py\", line 513, in process_one\n      await dispatch(*args)\n    File \"/Users/odagraufferntsen/miniforge3/envs/ml/lib/python3.10/site-packages/ipykernel/kernelbase.py\", line 418, in dispatch_shell\n      await result\n    File \"/Users/odagraufferntsen/miniforge3/envs/ml/lib/python3.10/site-packages/ipykernel/kernelbase.py\", line 758, in execute_request\n      reply_content = await reply_content\n    File \"/Users/odagraufferntsen/miniforge3/envs/ml/lib/python3.10/site-packages/ipykernel/ipkernel.py\", line 426, in do_execute\n      res = shell.run_cell(\n    File \"/Users/odagraufferntsen/miniforge3/envs/ml/lib/python3.10/site-packages/ipykernel/zmqshell.py\", line 549, in run_cell\n      return super().run_cell(*args, **kwargs)\n    File \"/Users/odagraufferntsen/miniforge3/envs/ml/lib/python3.10/site-packages/IPython/core/interactiveshell.py\", line 3024, in run_cell\n      result = self._run_cell(\n    File \"/Users/odagraufferntsen/miniforge3/envs/ml/lib/python3.10/site-packages/IPython/core/interactiveshell.py\", line 3079, in _run_cell\n      result = runner(coro)\n    File \"/Users/odagraufferntsen/miniforge3/envs/ml/lib/python3.10/site-packages/IPython/core/async_helpers.py\", line 129, in _pseudo_sync_runner\n      coro.send(None)\n    File \"/Users/odagraufferntsen/miniforge3/envs/ml/lib/python3.10/site-packages/IPython/core/interactiveshell.py\", line 3284, in run_cell_async\n      has_raised = await self.run_ast_nodes(code_ast.body, cell_name,\n    File \"/Users/odagraufferntsen/miniforge3/envs/ml/lib/python3.10/site-packages/IPython/core/interactiveshell.py\", line 3466, in run_ast_nodes\n      if await self.run_code(code, result, async_=asy):\n    File \"/Users/odagraufferntsen/miniforge3/envs/ml/lib/python3.10/site-packages/IPython/core/interactiveshell.py\", line 3526, in run_code\n      exec(code_obj, self.user_global_ns, self.user_ns)\n    File \"/var/folders/18/r2ql_22j6qz613qdzqhrv5bc0000gn/T/ipykernel_35477/519476912.py\", line 36, in <module>\n      meta_learner_A, meta_predictions_A = stack_models(models_A, X_train_meta_A, y_train_A, X_val_meta_A)\n    File \"/var/folders/18/r2ql_22j6qz613qdzqhrv5bc0000gn/T/ipykernel_35477/519476912.py\", line 12, in stack_models\n      model.fit(X_train[train_index], y_train[train_index])\n    File \"/Users/odagraufferntsen/miniforge3/envs/ml/lib/python3.10/site-packages/keras/src/utils/traceback_utils.py\", line 65, in error_handler\n      return fn(*args, **kwargs)\n    File \"/Users/odagraufferntsen/miniforge3/envs/ml/lib/python3.10/site-packages/keras/src/engine/training.py\", line 1742, in fit\n      tmp_logs = self.train_function(iterator)\n    File \"/Users/odagraufferntsen/miniforge3/envs/ml/lib/python3.10/site-packages/keras/src/engine/training.py\", line 1338, in train_function\n      return step_function(self, iterator)\n    File \"/Users/odagraufferntsen/miniforge3/envs/ml/lib/python3.10/site-packages/keras/src/engine/training.py\", line 1322, in step_function\n      outputs = model.distribute_strategy.run(run_step, args=(data,))\n    File \"/Users/odagraufferntsen/miniforge3/envs/ml/lib/python3.10/site-packages/keras/src/engine/training.py\", line 1303, in run_step\n      outputs = model.train_step(data)\n    File \"/Users/odagraufferntsen/miniforge3/envs/ml/lib/python3.10/site-packages/keras/src/engine/training.py\", line 1080, in train_step\n      y_pred = self(x, training=True)\n    File \"/Users/odagraufferntsen/miniforge3/envs/ml/lib/python3.10/site-packages/keras/src/utils/traceback_utils.py\", line 65, in error_handler\n      return fn(*args, **kwargs)\n    File \"/Users/odagraufferntsen/miniforge3/envs/ml/lib/python3.10/site-packages/keras/src/engine/training.py\", line 569, in __call__\n      return super().__call__(*args, **kwargs)\n    File \"/Users/odagraufferntsen/miniforge3/envs/ml/lib/python3.10/site-packages/keras/src/utils/traceback_utils.py\", line 65, in error_handler\n      return fn(*args, **kwargs)\n    File \"/Users/odagraufferntsen/miniforge3/envs/ml/lib/python3.10/site-packages/keras/src/engine/base_layer.py\", line 1150, in __call__\n      outputs = call_fn(inputs, *args, **kwargs)\n    File \"/Users/odagraufferntsen/miniforge3/envs/ml/lib/python3.10/site-packages/keras/src/utils/traceback_utils.py\", line 96, in error_handler\n      return fn(*args, **kwargs)\n    File \"/Users/odagraufferntsen/miniforge3/envs/ml/lib/python3.10/site-packages/keras/src/engine/sequential.py\", line 405, in call\n      return super().call(inputs, training=training, mask=mask)\n    File \"/Users/odagraufferntsen/miniforge3/envs/ml/lib/python3.10/site-packages/keras/src/engine/functional.py\", line 512, in call\n      return self._run_internal_graph(inputs, training=training, mask=mask)\n    File \"/Users/odagraufferntsen/miniforge3/envs/ml/lib/python3.10/site-packages/keras/src/engine/functional.py\", line 669, in _run_internal_graph\n      outputs = node.layer(*args, **kwargs)\n    File \"/Users/odagraufferntsen/miniforge3/envs/ml/lib/python3.10/site-packages/keras/src/utils/traceback_utils.py\", line 65, in error_handler\n      return fn(*args, **kwargs)\n    File \"/Users/odagraufferntsen/miniforge3/envs/ml/lib/python3.10/site-packages/keras/src/engine/base_layer.py\", line 1150, in __call__\n      outputs = call_fn(inputs, *args, **kwargs)\n    File \"/Users/odagraufferntsen/miniforge3/envs/ml/lib/python3.10/site-packages/keras/src/utils/traceback_utils.py\", line 96, in error_handler\n      return fn(*args, **kwargs)\n    File \"/Users/odagraufferntsen/miniforge3/envs/ml/lib/python3.10/site-packages/keras/src/layers/core/dense.py\", line 255, in call\n      outputs = self.activation(outputs)\n    File \"/Users/odagraufferntsen/miniforge3/envs/ml/lib/python3.10/site-packages/keras/src/activations.py\", line 321, in relu\n      return backend.relu(\n    File \"/Users/odagraufferntsen/miniforge3/envs/ml/lib/python3.10/site-packages/keras/src/backend.py\", line 5397, in relu\n      x = tf.nn.relu(x)\nNode: 'sequential_3045/dense_9135/Relu'\nMatrix size-incompatible: In[0]: [32,5], In[1]: [36,32]\n\t [[{{node sequential_3045/dense_9135/Relu}}]] [Op:__inference_train_function_264052524]",
     "output_type": "error",
     "traceback": [
      "\u001b[0;31m---------------------------------------------------------------------------\u001b[0m",
      "\u001b[0;31mInvalidArgumentError\u001b[0m                      Traceback (most recent call last)",
      "\u001b[1;32m/Users/odagraufferntsen/Documents/Machine-learning-066/short_notebook.ipynb Cell 34\u001b[0m line \u001b[0;36m3\n\u001b[1;32m     <a href='vscode-notebook-cell:/Users/odagraufferntsen/Documents/Machine-learning-066/short_notebook.ipynb#Y102sZmlsZQ%3D%3D?line=32'>33</a>\u001b[0m X_val_meta_C \u001b[39m=\u001b[39m column_stack([model\u001b[39m.\u001b[39mpredict(X_val_C) \u001b[39mfor\u001b[39;00m model \u001b[39min\u001b[39;00m models_C])\n\u001b[1;32m     <a href='vscode-notebook-cell:/Users/odagraufferntsen/Documents/Machine-learning-066/short_notebook.ipynb#Y102sZmlsZQ%3D%3D?line=34'>35</a>\u001b[0m \u001b[39m# Now you can use X_train_meta_A and X_val_meta_A to train and validate the meta-learner for location A\u001b[39;00m\n\u001b[0;32m---> <a href='vscode-notebook-cell:/Users/odagraufferntsen/Documents/Machine-learning-066/short_notebook.ipynb#Y102sZmlsZQ%3D%3D?line=35'>36</a>\u001b[0m meta_learner_A, meta_predictions_A \u001b[39m=\u001b[39m stack_models(models_A, X_train_meta_A, y_train_A, X_val_meta_A)\n\u001b[1;32m     <a href='vscode-notebook-cell:/Users/odagraufferntsen/Documents/Machine-learning-066/short_notebook.ipynb#Y102sZmlsZQ%3D%3D?line=36'>37</a>\u001b[0m meta_learner_B, meta_predictions_B \u001b[39m=\u001b[39m stack_models(models_B, X_train_meta_B, y_train_B, X_val_meta_B)\n\u001b[1;32m     <a href='vscode-notebook-cell:/Users/odagraufferntsen/Documents/Machine-learning-066/short_notebook.ipynb#Y102sZmlsZQ%3D%3D?line=37'>38</a>\u001b[0m meta_learner_C, meta_predictions_C \u001b[39m=\u001b[39m stack_models(models_C, X_train_meta_C, y_train_C, X_val_meta_C)\n",
      "\u001b[1;32m/Users/odagraufferntsen/Documents/Machine-learning-066/short_notebook.ipynb Cell 34\u001b[0m line \u001b[0;36m1\n\u001b[1;32m      <a href='vscode-notebook-cell:/Users/odagraufferntsen/Documents/Machine-learning-066/short_notebook.ipynb#Y102sZmlsZQ%3D%3D?line=8'>9</a>\u001b[0m \u001b[39mfor\u001b[39;00m i, model \u001b[39min\u001b[39;00m \u001b[39menumerate\u001b[39m(models):\n\u001b[1;32m     <a href='vscode-notebook-cell:/Users/odagraufferntsen/Documents/Machine-learning-066/short_notebook.ipynb#Y102sZmlsZQ%3D%3D?line=9'>10</a>\u001b[0m     \u001b[39mfor\u001b[39;00m train_index, val_index \u001b[39min\u001b[39;00m kf\u001b[39m.\u001b[39msplit(X_train):\n\u001b[1;32m     <a href='vscode-notebook-cell:/Users/odagraufferntsen/Documents/Machine-learning-066/short_notebook.ipynb#Y102sZmlsZQ%3D%3D?line=10'>11</a>\u001b[0m         \u001b[39m# Directly index the numpy array\u001b[39;00m\n\u001b[0;32m---> <a href='vscode-notebook-cell:/Users/odagraufferntsen/Documents/Machine-learning-066/short_notebook.ipynb#Y102sZmlsZQ%3D%3D?line=11'>12</a>\u001b[0m         model\u001b[39m.\u001b[39;49mfit(X_train[train_index], y_train[train_index])\n\u001b[1;32m     <a href='vscode-notebook-cell:/Users/odagraufferntsen/Documents/Machine-learning-066/short_notebook.ipynb#Y102sZmlsZQ%3D%3D?line=12'>13</a>\u001b[0m         meta_features[val_index, i] \u001b[39m=\u001b[39m model\u001b[39m.\u001b[39mpredict(X_train[val_index])\n\u001b[1;32m     <a href='vscode-notebook-cell:/Users/odagraufferntsen/Documents/Machine-learning-066/short_notebook.ipynb#Y102sZmlsZQ%3D%3D?line=14'>15</a>\u001b[0m \u001b[39m# Train meta-learner on the out-of-fold predictions\u001b[39;00m\n",
      "File \u001b[0;32m~/miniforge3/envs/ml/lib/python3.10/site-packages/keras/src/utils/traceback_utils.py:70\u001b[0m, in \u001b[0;36mfilter_traceback.<locals>.error_handler\u001b[0;34m(*args, **kwargs)\u001b[0m\n\u001b[1;32m     67\u001b[0m     filtered_tb \u001b[39m=\u001b[39m _process_traceback_frames(e\u001b[39m.\u001b[39m__traceback__)\n\u001b[1;32m     68\u001b[0m     \u001b[39m# To get the full stack trace, call:\u001b[39;00m\n\u001b[1;32m     69\u001b[0m     \u001b[39m# `tf.debugging.disable_traceback_filtering()`\u001b[39;00m\n\u001b[0;32m---> 70\u001b[0m     \u001b[39mraise\u001b[39;00m e\u001b[39m.\u001b[39mwith_traceback(filtered_tb) \u001b[39mfrom\u001b[39;00m \u001b[39mNone\u001b[39;00m\n\u001b[1;32m     71\u001b[0m \u001b[39mfinally\u001b[39;00m:\n\u001b[1;32m     72\u001b[0m     \u001b[39mdel\u001b[39;00m filtered_tb\n",
      "File \u001b[0;32m~/miniforge3/envs/ml/lib/python3.10/site-packages/tensorflow/python/eager/execute.py:53\u001b[0m, in \u001b[0;36mquick_execute\u001b[0;34m(op_name, num_outputs, inputs, attrs, ctx, name)\u001b[0m\n\u001b[1;32m     51\u001b[0m \u001b[39mtry\u001b[39;00m:\n\u001b[1;32m     52\u001b[0m   ctx\u001b[39m.\u001b[39mensure_initialized()\n\u001b[0;32m---> 53\u001b[0m   tensors \u001b[39m=\u001b[39m pywrap_tfe\u001b[39m.\u001b[39mTFE_Py_Execute(ctx\u001b[39m.\u001b[39m_handle, device_name, op_name,\n\u001b[1;32m     54\u001b[0m                                       inputs, attrs, num_outputs)\n\u001b[1;32m     55\u001b[0m \u001b[39mexcept\u001b[39;00m core\u001b[39m.\u001b[39m_NotOkStatusException \u001b[39mas\u001b[39;00m e:\n\u001b[1;32m     56\u001b[0m   \u001b[39mif\u001b[39;00m name \u001b[39mis\u001b[39;00m \u001b[39mnot\u001b[39;00m \u001b[39mNone\u001b[39;00m:\n",
      "\u001b[0;31mInvalidArgumentError\u001b[0m: Graph execution error:\n\nDetected at node 'sequential_3045/dense_9135/Relu' defined at (most recent call last):\n    File \"/Users/odagraufferntsen/miniforge3/envs/ml/lib/python3.10/runpy.py\", line 196, in _run_module_as_main\n      return _run_code(code, main_globals, None,\n    File \"/Users/odagraufferntsen/miniforge3/envs/ml/lib/python3.10/runpy.py\", line 86, in _run_code\n      exec(code, run_globals)\n    File \"/Users/odagraufferntsen/miniforge3/envs/ml/lib/python3.10/site-packages/ipykernel_launcher.py\", line 17, in <module>\n      app.launch_new_instance()\n    File \"/Users/odagraufferntsen/miniforge3/envs/ml/lib/python3.10/site-packages/traitlets/config/application.py\", line 1053, in launch_instance\n      app.start()\n    File \"/Users/odagraufferntsen/miniforge3/envs/ml/lib/python3.10/site-packages/ipykernel/kernelapp.py\", line 737, in start\n      self.io_loop.start()\n    File \"/Users/odagraufferntsen/miniforge3/envs/ml/lib/python3.10/site-packages/tornado/platform/asyncio.py\", line 195, in start\n      self.asyncio_loop.run_forever()\n    File \"/Users/odagraufferntsen/miniforge3/envs/ml/lib/python3.10/asyncio/base_events.py\", line 603, in run_forever\n      self._run_once()\n    File \"/Users/odagraufferntsen/miniforge3/envs/ml/lib/python3.10/asyncio/base_events.py\", line 1909, in _run_once\n      handle._run()\n    File \"/Users/odagraufferntsen/miniforge3/envs/ml/lib/python3.10/asyncio/events.py\", line 80, in _run\n      self._context.run(self._callback, *self._args)\n    File \"/Users/odagraufferntsen/miniforge3/envs/ml/lib/python3.10/site-packages/ipykernel/kernelbase.py\", line 524, in dispatch_queue\n      await self.process_one()\n    File \"/Users/odagraufferntsen/miniforge3/envs/ml/lib/python3.10/site-packages/ipykernel/kernelbase.py\", line 513, in process_one\n      await dispatch(*args)\n    File \"/Users/odagraufferntsen/miniforge3/envs/ml/lib/python3.10/site-packages/ipykernel/kernelbase.py\", line 418, in dispatch_shell\n      await result\n    File \"/Users/odagraufferntsen/miniforge3/envs/ml/lib/python3.10/site-packages/ipykernel/kernelbase.py\", line 758, in execute_request\n      reply_content = await reply_content\n    File \"/Users/odagraufferntsen/miniforge3/envs/ml/lib/python3.10/site-packages/ipykernel/ipkernel.py\", line 426, in do_execute\n      res = shell.run_cell(\n    File \"/Users/odagraufferntsen/miniforge3/envs/ml/lib/python3.10/site-packages/ipykernel/zmqshell.py\", line 549, in run_cell\n      return super().run_cell(*args, **kwargs)\n    File \"/Users/odagraufferntsen/miniforge3/envs/ml/lib/python3.10/site-packages/IPython/core/interactiveshell.py\", line 3024, in run_cell\n      result = self._run_cell(\n    File \"/Users/odagraufferntsen/miniforge3/envs/ml/lib/python3.10/site-packages/IPython/core/interactiveshell.py\", line 3079, in _run_cell\n      result = runner(coro)\n    File \"/Users/odagraufferntsen/miniforge3/envs/ml/lib/python3.10/site-packages/IPython/core/async_helpers.py\", line 129, in _pseudo_sync_runner\n      coro.send(None)\n    File \"/Users/odagraufferntsen/miniforge3/envs/ml/lib/python3.10/site-packages/IPython/core/interactiveshell.py\", line 3284, in run_cell_async\n      has_raised = await self.run_ast_nodes(code_ast.body, cell_name,\n    File \"/Users/odagraufferntsen/miniforge3/envs/ml/lib/python3.10/site-packages/IPython/core/interactiveshell.py\", line 3466, in run_ast_nodes\n      if await self.run_code(code, result, async_=asy):\n    File \"/Users/odagraufferntsen/miniforge3/envs/ml/lib/python3.10/site-packages/IPython/core/interactiveshell.py\", line 3526, in run_code\n      exec(code_obj, self.user_global_ns, self.user_ns)\n    File \"/var/folders/18/r2ql_22j6qz613qdzqhrv5bc0000gn/T/ipykernel_35477/519476912.py\", line 36, in <module>\n      meta_learner_A, meta_predictions_A = stack_models(models_A, X_train_meta_A, y_train_A, X_val_meta_A)\n    File \"/var/folders/18/r2ql_22j6qz613qdzqhrv5bc0000gn/T/ipykernel_35477/519476912.py\", line 12, in stack_models\n      model.fit(X_train[train_index], y_train[train_index])\n    File \"/Users/odagraufferntsen/miniforge3/envs/ml/lib/python3.10/site-packages/keras/src/utils/traceback_utils.py\", line 65, in error_handler\n      return fn(*args, **kwargs)\n    File \"/Users/odagraufferntsen/miniforge3/envs/ml/lib/python3.10/site-packages/keras/src/engine/training.py\", line 1742, in fit\n      tmp_logs = self.train_function(iterator)\n    File \"/Users/odagraufferntsen/miniforge3/envs/ml/lib/python3.10/site-packages/keras/src/engine/training.py\", line 1338, in train_function\n      return step_function(self, iterator)\n    File \"/Users/odagraufferntsen/miniforge3/envs/ml/lib/python3.10/site-packages/keras/src/engine/training.py\", line 1322, in step_function\n      outputs = model.distribute_strategy.run(run_step, args=(data,))\n    File \"/Users/odagraufferntsen/miniforge3/envs/ml/lib/python3.10/site-packages/keras/src/engine/training.py\", line 1303, in run_step\n      outputs = model.train_step(data)\n    File \"/Users/odagraufferntsen/miniforge3/envs/ml/lib/python3.10/site-packages/keras/src/engine/training.py\", line 1080, in train_step\n      y_pred = self(x, training=True)\n    File \"/Users/odagraufferntsen/miniforge3/envs/ml/lib/python3.10/site-packages/keras/src/utils/traceback_utils.py\", line 65, in error_handler\n      return fn(*args, **kwargs)\n    File \"/Users/odagraufferntsen/miniforge3/envs/ml/lib/python3.10/site-packages/keras/src/engine/training.py\", line 569, in __call__\n      return super().__call__(*args, **kwargs)\n    File \"/Users/odagraufferntsen/miniforge3/envs/ml/lib/python3.10/site-packages/keras/src/utils/traceback_utils.py\", line 65, in error_handler\n      return fn(*args, **kwargs)\n    File \"/Users/odagraufferntsen/miniforge3/envs/ml/lib/python3.10/site-packages/keras/src/engine/base_layer.py\", line 1150, in __call__\n      outputs = call_fn(inputs, *args, **kwargs)\n    File \"/Users/odagraufferntsen/miniforge3/envs/ml/lib/python3.10/site-packages/keras/src/utils/traceback_utils.py\", line 96, in error_handler\n      return fn(*args, **kwargs)\n    File \"/Users/odagraufferntsen/miniforge3/envs/ml/lib/python3.10/site-packages/keras/src/engine/sequential.py\", line 405, in call\n      return super().call(inputs, training=training, mask=mask)\n    File \"/Users/odagraufferntsen/miniforge3/envs/ml/lib/python3.10/site-packages/keras/src/engine/functional.py\", line 512, in call\n      return self._run_internal_graph(inputs, training=training, mask=mask)\n    File \"/Users/odagraufferntsen/miniforge3/envs/ml/lib/python3.10/site-packages/keras/src/engine/functional.py\", line 669, in _run_internal_graph\n      outputs = node.layer(*args, **kwargs)\n    File \"/Users/odagraufferntsen/miniforge3/envs/ml/lib/python3.10/site-packages/keras/src/utils/traceback_utils.py\", line 65, in error_handler\n      return fn(*args, **kwargs)\n    File \"/Users/odagraufferntsen/miniforge3/envs/ml/lib/python3.10/site-packages/keras/src/engine/base_layer.py\", line 1150, in __call__\n      outputs = call_fn(inputs, *args, **kwargs)\n    File \"/Users/odagraufferntsen/miniforge3/envs/ml/lib/python3.10/site-packages/keras/src/utils/traceback_utils.py\", line 96, in error_handler\n      return fn(*args, **kwargs)\n    File \"/Users/odagraufferntsen/miniforge3/envs/ml/lib/python3.10/site-packages/keras/src/layers/core/dense.py\", line 255, in call\n      outputs = self.activation(outputs)\n    File \"/Users/odagraufferntsen/miniforge3/envs/ml/lib/python3.10/site-packages/keras/src/activations.py\", line 321, in relu\n      return backend.relu(\n    File \"/Users/odagraufferntsen/miniforge3/envs/ml/lib/python3.10/site-packages/keras/src/backend.py\", line 5397, in relu\n      x = tf.nn.relu(x)\nNode: 'sequential_3045/dense_9135/Relu'\nMatrix size-incompatible: In[0]: [32,5], In[1]: [36,32]\n\t [[{{node sequential_3045/dense_9135/Relu}}]] [Op:__inference_train_function_264052524]"
     ]
    }
   ],
   "source": [
    "def stack_models(models, X_train, y_train, X_val, n_folds=5):\n",
    "    y_train = np.array(y_train)\n",
    "\n",
    "    kf = KFold(n_splits=n_folds, shuffle=True, random_state=42)\n",
    "    meta_features = np.zeros((X_train.shape[0], len(models)))\n",
    "    \n",
    "    for i, model in enumerate(models):\n",
    "        for train_index, val_index in kf.split(X_train):\n",
    "            model.fit(X_train[train_index], y_train[train_index])\n",
    "            meta_features[val_index, i] = model.predict(X_train[val_index])\n",
    "    \n",
    "    meta_learner = RandomForestRegressor(random_state=42)\n",
    "    meta_learner.fit(meta_features, y_train)\n",
    "    \n",
    "    X_val_meta = np.column_stack([model.predict(X_val) for model in models])\n",
    "    \n",
    "    meta_predictions = meta_learner.predict(X_val_meta)\n",
    "    \n",
    "    return meta_learner, meta_predictions\n",
    "\n",
    "X_train_meta_A = column_stack([model.predict(X_train_A) for model in models_A])\n",
    "X_val_meta_A = column_stack([model.predict(X_val_A) for model in models_A])\n",
    "X_train_meta_B = column_stack([model.predict(X_train_B) for model in models_B])\n",
    "X_val_meta_B = column_stack([model.predict(X_val_B) for model in models_B])\n",
    "X_train_meta_C = column_stack([model.predict(X_train_C) for model in models_C])\n",
    "X_val_meta_C = column_stack([model.predict(X_val_C) for model in models_C])\n",
    "\n",
    "meta_learner_A, meta_predictions_A = stack_models(models_A, X_train_meta_A, y_train_A, X_val_meta_A)\n",
    "meta_learner_B, meta_predictions_B = stack_models(models_B, X_train_meta_B, y_train_B, X_val_meta_B)\n",
    "meta_learner_C, meta_predictions_C = stack_models(models_C, X_train_meta_C, y_train_C, X_val_meta_C)"
   ]
  },
  {
   "cell_type": "markdown",
   "id": "f4275a2b",
   "metadata": {},
   "source": [
    "## LGBM\n",
    "A lot of our work was done trying to combine MLP and LGBM. For LGBM we first tried with gridsearch to get the best hyperparamters, but we later implemented optuna as we did in mlp to get better results before stacking. We also tried feature selection as shown below in HGB."
   ]
  },
  {
   "cell_type": "code",
   "execution_count": 138,
   "id": "16de55a1-621a-45fc-bcef-e278c0a3dcbf",
   "metadata": {},
   "outputs": [],
   "source": [
    "lgbm_param_grid = {\n",
    "    'learning_rate': [0.01, 0.05, 0.1], \n",
    "    'n_estimators': [20, 40], \n",
    "    'num_leaves': [31, 61],\n",
    "    'boosting_type': ['gbdt', 'dart'],\n",
    "    'objective': ['regression'], \n",
    "    'random_state': [501],\n",
    "    'colsample_bytree': [0.5, 0.7, 1], \n",
    "    'subsample': [0.5, 0.7],\n",
    "    'min_split_gain': [0.01],\n",
    "}\n",
    "\n",
    "def create_and_tune_lgbm(X_train, y_train, X_val, y_val):\n",
    "    X_combined = np.vstack((X_train, X_val))\n",
    "    y_combined = np.hstack((y_train, y_val))\n",
    "\n",
    "    test_fold = [-1]*len(X_train) + [0]*len(X_val)\n",
    "\n",
    "    ps = PredefinedSplit(test_fold)\n",
    "    \n",
    "    gridsearch = GridSearchCV(lgb.LGBMRegressor(verbose=-1), lgbm_param_grid, cv=ps, scoring='neg_mean_squared_error', verbose=1)\n",
    "\n",
    "    gridsearch.fit(X_combined, y_combined)\n",
    "\n",
    "    best_estimator = gridsearch.best_estimator_\n",
    "    \n",
    "    y_pred_val = best_estimator.predict(X_val)\n",
    "    mae_val = mean_absolute_error(y_val, y_pred_val)\n",
    "    \n",
    "    print(f\"Best MAE on Validation Set: {mae_val}\")\n",
    "\n",
    "    plt.figure(figsize=(10, 6))\n",
    "    plt.plot(y_val, label='Actual', color='blue')\n",
    "    plt.plot(y_pred_val, label='Predicted', color='red')\n",
    "    plt.xlabel('Data Point Index')\n",
    "    plt.ylabel('Value')\n",
    "    plt.title('Actual vs. Predicted Values')\n",
    "    plt.legend()\n",
    "    plt.show()\n",
    "    \n",
    "    return best_estimator"
   ]
  },
  {
   "cell_type": "markdown",
   "id": "f5ad4c32",
   "metadata": {},
   "source": [
    "## LGBM Several models"
   ]
  },
  {
   "cell_type": "code",
   "execution_count": null,
   "id": "6f7abf45",
   "metadata": {},
   "outputs": [],
   "source": [
    "def create_lgbm_models(X_train, y_train, X_val, y_val, lgbm_param_grid_1, lgbm_param_grid_2):\n",
    "    model_1 = lgb.LGBMRegressor(**lgbm_param_grid_1, verbose=-1)\n",
    "    model_1.fit(X_train, y_train, eval_set=[(X_val, y_val)], verbose=100)\n",
    "\n",
    "    model_2 = lgb.LGBMRegressor(**lgbm_param_grid_2, verbose=-1)\n",
    "    model_2.fit(X_train, y_train, eval_set=[(X_val, y_val)], verbose=100)\n",
    "\n",
    "    return model_1, model_2\n",
    "\n",
    "lgbm_param_grid_1 = {\n",
    "    'learning_rate': 0.1,\n",
    "    'n_estimators': 400,\n",
    "    'random_state': 1,\n",
    "    'max_depth': 8,\n",
    "    'subsample': 0.5,\n",
    "    'boosting_type': 'gbdt'\n",
    "}\n",
    "\n",
    "lgbm_param_grid_2 = {\n",
    "    'learning_rate': 0.01,\n",
    "    'n_estimators': 150,\n",
    "    'random_state': 1,\n",
    "    'max_depth': 3,\n",
    "    'subsample': 0.8,\n",
    "    'boosting_type': 'goss'\n",
    "}"
   ]
  },
  {
   "cell_type": "code",
   "execution_count": null,
   "id": "1916fbf9",
   "metadata": {},
   "outputs": [],
   "source": [
    "lgbm_model_A2, lgbm_model_A3 = create_lgbm_models(X_train_A, y_train_A, X_val_A, y_val_A, lgbm_param_grid_1, lgbm_param_grid_2)\n",
    "lgbm_model_B2, lgbm_model_B3 = create_lgbm_models(X_train_B, y_train_B, X_val_B, y_val_B, lgbm_param_grid_1, lgbm_param_grid_2)\n",
    "lgbm_model_C2, lgbm_model_C3 = create_lgbm_models(X_train_C, y_train_C, X_val_C, y_val_C, lgbm_param_grid_1, lgbm_param_grid_2)"
   ]
  },
  {
   "cell_type": "code",
   "execution_count": null,
   "id": "f08a6e54",
   "metadata": {},
   "outputs": [],
   "source": [
    "y_pred_a_lgbm2 = lgbm_model_A2.predict(X_test_A).ravel()\n",
    "y_pred_b_lgbm2 = lgbm_model_B2.predict(X_test_B).ravel()\n",
    "y_pred_c_lgbm2 = lgbm_model_C2.predict(X_test_C).ravel()\n",
    "\n",
    "y_pred_a_lgbm3 = lgbm_model_A3.predict(X_test_A).ravel()\n",
    "y_pred_b_lgbm3 = lgbm_model_B3.predict(X_test_B).ravel()\n",
    "y_pred_c_lgbm3 = lgbm_model_C3.predict(X_test_C).ravel()"
   ]
  },
  {
   "cell_type": "code",
   "execution_count": null,
   "id": "03cc282e",
   "metadata": {},
   "outputs": [],
   "source": [
    "y_pred_a_lgbm[y_pred_a_lgbm2 < 0] = 0\n",
    "y_pred_b_lgbm[y_pred_b_lgbm2 < 0] = 0\n",
    "y_pred_c_lgbm[y_pred_c_lgbm2 < 0] = 0\n",
    "\n",
    "y_pred_a_lgbm[y_pred_a_lgbm3 < 0] = 0\n",
    "y_pred_b_lgbm[y_pred_b_lgbm3 < 0] = 0\n",
    "y_pred_c_lgbm[y_pred_c_lgbm3 < 0] = 0"
   ]
  },
  {
   "cell_type": "code",
   "execution_count": null,
   "id": "0b4bc0c8",
   "metadata": {},
   "outputs": [],
   "source": [
    "y_pred_A = np.power(np.maximum(y_pred_a_lgbm * y_pred_a_mlp * y_pred_a_lgbm2 * y_pred_a_lgbm3, 0), 1/4)\n",
    "y_pred_B = np.power(np.maximum(y_pred_b_lgbm * y_pred_b_mlp * y_pred_b_lgbm2 * y_pred_b_lgbm3, 0), 1/4)\n",
    "y_pred_C = np.power(np.maximum(y_pred_c_lgbm * y_pred_c_mlp * y_pred_c_lgbm2 * y_pred_c_lgbm3, 0), 1/4)"
   ]
  },
  {
   "cell_type": "markdown",
   "id": "cc5f9a9d",
   "metadata": {},
   "source": [
    "## Catboost"
   ]
  },
  {
   "cell_type": "code",
   "execution_count": null,
   "id": "09f33acb",
   "metadata": {},
   "outputs": [],
   "source": [
    "cat_param_grid = {\n",
    "    'iterations': [100, 200, 300],\n",
    "    'learning_rate': [0.01, 0.1, 0.2],\n",
    "    'depth': [4, 6, 8],\n",
    "}\n",
    "\n",
    "def create_and_tune_catboost(X_train, y_train, X_val, y_val):\n",
    "    X_combined = np.vstack((X_train, X_val))\n",
    "    y_combined = np.hstack((y_train, y_val))\n",
    "    \n",
    "    test_fold = [-1]*len(X_train) + [0]*len(X_val)\n",
    "    ps = PredefinedSplit(test_fold)\n",
    "    \n",
    "    gridsearch = GridSearchCV(CatBoostRegressor(), \n",
    "                              cat_param_grid, \n",
    "                              cv=ps, \n",
    "                              scoring='neg_mean_squared_error', \n",
    "                              n_jobs=-1)\n",
    "\n",
    "    gridsearch.fit(X_combined, y_combined)\n",
    "    \n",
    "    y_pred = gridsearch.best_estimator_.predict(X_val)\n",
    "    \n",
    "    return gridsearch.best_estimator_"
   ]
  },
  {
   "cell_type": "code",
   "execution_count": null,
   "id": "f2d0eb61",
   "metadata": {},
   "outputs": [],
   "source": [
    "catboost_model_A = create_and_tune_catboost(X_train_A, y_train_A, X_val_A, y_val_A)\n",
    "catboost_model_B = create_and_tune_catboost(X_train_B, y_train_B, X_val_B, y_val_B)\n",
    "catboost_model_C = create_and_tune_catboost(X_train_C, y_train_C, X_val_C, y_val_C)"
   ]
  },
  {
   "cell_type": "code",
   "execution_count": null,
   "id": "c75a015b",
   "metadata": {},
   "outputs": [],
   "source": [
    "y_pred_a_catboost = catboost_model_A.predict(X_test_A).ravel()\n",
    "y_pred_b_catboost = catboost_model_B.predict(X_test_B).ravel()\n",
    "y_pred_c_catboost = catboost_model_C.predict(X_test_C).ravel()"
   ]
  },
  {
   "cell_type": "code",
   "execution_count": null,
   "id": "6cc5ab47",
   "metadata": {},
   "outputs": [],
   "source": [
    "y_pred_a_catboost[y_pred_a_lgbm < 0] = 0\n",
    "y_pred_b_catboost[y_pred_b_lgbm < 0] = 0\n",
    "y_pred_c_catboost[y_pred_c_lgbm < 0] = 0"
   ]
  },
  {
   "cell_type": "markdown",
   "id": "816a89bf",
   "metadata": {},
   "source": [
    "## GBR\n",
    "For GBR we tried bot gridsearch and feature selection. The first codeblock is what we did using GridSearch. For feature selection we have only added the code for location A, but we have also done the same for B and C. "
   ]
  },
  {
   "cell_type": "code",
   "execution_count": null,
   "id": "70be155b",
   "metadata": {},
   "outputs": [],
   "source": [
    "gbr_param_grid = {\n",
    "    'n_estimators': [50, 100, 150],  \n",
    "    'max_depth': [3, 4, 5, 6],     \n",
    "    'learning_rate': [0.01, 0.1, 0.2],\n",
    "    #'subsample': [0.5, 0.7, 0.9, 1.0],\n",
    "    #'min_samples_split': [2, 5, 10],\n",
    "    #'min_samples_leaf': [1, 2, 4],\n",
    "    #'max_features': ['auto', 'sqrt', 'log2', 0.5, 0.7, None],\n",
    "    #'min_impurity_decrease': [0.0, 0.01, 0.05]\n",
    "}\n",
    "\n",
    "def create_and_tune_gbr(X_train, y_train, X_val, y_val):\n",
    "    X_combined = np.vstack((X_train, X_val))\n",
    "    y_combined = np.hstack((y_train, y_val))\n",
    "    test_fold = [-1]*len(X_train) + [0]*len(X_val)\n",
    "    ps = PredefinedSplit(test_fold)\n",
    "    \n",
    "    gridsearch = GridSearchCV(GradientBoostingRegressor(random_state=1), \n",
    "                              gbr_param_grid, \n",
    "                              cv=ps, \n",
    "                              scoring='neg_mean_squared_error', \n",
    "                              n_jobs=-1)\n",
    "\n",
    "    gridsearch.fit(X_combined, y_combined)\n",
    "    \n",
    "    \n",
    "    return gridsearch.best_estimator_"
   ]
  },
  {
   "cell_type": "code",
   "execution_count": null,
   "id": "17d819eb",
   "metadata": {},
   "outputs": [],
   "source": [
    "modelA = GradientBoostingRegressor(max_depth=5, n_estimators=100, random_state=1)\n",
    "\n",
    "modelA.fit(X_train, y_train)\n",
    "\n",
    "y_pred = modelA.predict(X_validate)\n",
    "\n",
    "mae = mean_absolute_error(y_validate, y_pred)\n",
    "print(f'Mean Absolute Error: {mae:.2f}')"
   ]
  },
  {
   "cell_type": "code",
   "execution_count": null,
   "id": "0e4d03a6",
   "metadata": {},
   "outputs": [],
   "source": [
    "modelA = GradientBoostingRegressor(max_depth=5, n_estimators=100, random_state=1)\n",
    "\n",
    "modelA.fit(X_train, y_train)\n",
    "\n",
    "y_pred = modelA.predict(X_validate)\n",
    "\n",
    "mae = mean_absolute_error(y_validate, y_pred)\n",
    "print(f'Mean Absolute Error: {mae:.2f}')"
   ]
  },
  {
   "cell_type": "code",
   "execution_count": null,
   "id": "4de5cfb9",
   "metadata": {},
   "outputs": [],
   "source": [
    "feature_importances = modelA.feature_importances_\n",
    "\n",
    "feature_names = X_train.columns  \n",
    "feature_importance_df = pd.DataFrame({\n",
    "    'Feature': feature_names,\n",
    "    'Importance': feature_importances\n",
    "})\n",
    "\n",
    "feature_importance_df = feature_importance_df.sort_values(by='Importance', ascending=False)\n",
    "\n",
    "print(feature_importance_df)"
   ]
  },
  {
   "cell_type": "code",
   "execution_count": null,
   "id": "fbde9462",
   "metadata": {},
   "outputs": [],
   "source": [
    "selected_features_A = feature_importance_df[feature_importance_df['Importance'] > 0]\n",
    "\n",
    "modelA.fit(X_train[selected_features_A['Feature']], y_train)\n",
    "\n",
    "y_pred = modelA.predict(X_validate[selected_features_A['Feature']])\n",
    "\n",
    "mae = mean_absolute_error(y_validate, y_pred)\n",
    "print(f'Mean Absolute Error: {mae:.2f}')"
   ]
  },
  {
   "cell_type": "code",
   "execution_count": null,
   "id": "0a37f4b4",
   "metadata": {},
   "outputs": [],
   "source": [
    "# Plots to compare actual vs. predicted values\n",
    "plt.figure(figsize=(10, 6))\n",
    "\n",
    "plt.plot(y_validate, label='Actual', color='blue')\n",
    "\n",
    "plt.plot(y_pred, label='Predicted', color='red')\n",
    "\n",
    "plt.xlabel('Data Point Index')\n",
    "plt.ylabel('Value')\n",
    "plt.title('Actual vs. Predicted Values')\n",
    "plt.legend()\n",
    "\n",
    "plt.show()"
   ]
  },
  {
   "cell_type": "markdown",
   "id": "db69eaf3",
   "metadata": {},
   "source": [
    "## Scaling values\n",
    "For a while we did not get better results no matter what we did, so we once tried to manually scale the values to be greater than the minimun and smaller than the maximum value for each dataset."
   ]
  },
  {
   "cell_type": "code",
   "execution_count": null,
   "id": "a7b8907c",
   "metadata": {},
   "outputs": [],
   "source": [
    "def scale_values(values, orig_min, orig_max, scaled_min, scaled_max):\n",
    "    return [(x - orig_min) / (orig_max - orig_min) * (scaled_max - scaled_min) + scaled_min for x in values]"
   ]
  },
  {
   "cell_type": "code",
   "execution_count": null,
   "id": "44e3e99c",
   "metadata": {},
   "outputs": [],
   "source": [
    "y_pred_A_mlp = scale_values(y_pred_a_mlp, min(y_pred_a_mlp), max(y_pred_a_mlp),0, 5000)\n",
    "y_pred_B_mlp = scale_values(y_pred_b_mlp, min(y_pred_b_mlp), max(y_pred_b_mlp), 0, 1000)\n",
    "y_pred_C_mlp = scale_values(y_pred_c_mlp, min(y_pred_c_mlp), max(y_pred_c_mlp), 0, 1000)\n",
    "\n",
    "y_pred_A_lgbm = scale_values(y_pred_a_lgbm, min(y_pred_a_lgbm), max(y_pred_a_lgbm),0, 5000)\n",
    "y_pred_B_lgbm = scale_values(y_pred_b_lgbm, min(y_pred_b_lgbm), max(y_pred_b_lgbm), 0, 1000)\n",
    "y_pred_C_lgbm = scale_values(y_pred_c_lgbm, min(y_pred_c_lgbm), max(y_pred_c_lgbm), 0, 1000)\n",
    "\n",
    "y_pred_A_gbr = scale_values(y_pred_a_gbr, min(y_pred_a_gbr), max(y_pred_a_gbr),0, 5000)\n",
    "y_pred_B_gbr = scale_values(y_pred_b_gbr, min(y_pred_b_gbr), max(y_pred_b_gbr), 0, 1000)\n",
    "y_pred_C_gbr = scale_values(y_pred_c_gbr, min(y_pred_c_gbr), max(y_pred_c_gbr), 0, 1000)\n"
   ]
  },
  {
   "cell_type": "markdown",
   "id": "2ed6436b",
   "metadata": {},
   "source": [
    "## Training models\n",
    "This is how  we trained the different models. When we had other models we included them in the same way below. "
   ]
  },
  {
   "cell_type": "code",
   "execution_count": 140,
   "id": "2dd4fa75-0c46-457d-ae96-7d4035cf9833",
   "metadata": {},
   "outputs": [
    {
     "name": "stdout",
     "output_type": "stream",
     "text": [
      "Fitting 1 folds for each of 144 candidates, totalling 144 fits\n",
      "Best MAE on Validation Set: 101.20677638491661\n"
     ]
    },
    {
     "data": {
      "image/png": "[encoded data removed]",
      "text/plain": [
       "<Figure size 1000x600 with 1 Axes>"
      ]
     },
     "metadata": {},
     "output_type": "display_data"
    },
    {
     "name": "stdout",
     "output_type": "stream",
     "text": [
      "Fitting 1 folds for each of 144 candidates, totalling 144 fits\n",
      "Best MAE on Validation Set: 15.444296746997166\n"
     ]
    },
    {
     "data": {
      "image/png": "[encoded data removed]",
      "text/plain": [
       "<Figure size 1000x600 with 1 Axes>"
      ]
     },
     "metadata": {},
     "output_type": "display_data"
    },
    {
     "name": "stdout",
     "output_type": "stream",
     "text": [
      "Fitting 1 folds for each of 144 candidates, totalling 144 fits\n",
      "Best MAE on Validation Set: 18.29385978718155\n"
     ]
    },
    {
     "data": {
      "image/png": "[encoded data removed]",
      "text/plain": [
       "<Figure size 1000x600 with 1 Axes>"
      ]
     },
     "metadata": {},
     "output_type": "display_data"
    }
   ],
   "source": [
    "mlp_model_A = train_and_save_mlp_model(X_train_A, y_train_A, X_val_A, y_val_A, 'models/model_location_A.h5')\n",
    "mlp_model_B = train_and_save_mlp_model(X_train_B, y_train_B, X_val_B, y_val_B, 'models/model_location_B.h5')\n",
    "mlp_model_C = train_and_save_mlp_model(X_train_C, y_train_C, X_val_C, y_val_C, 'models/model_location_C.h5')\n",
    "\n",
    "lgbm_model_A = create_and_tune_lgbm(X_train_A, y_train_A, X_val_A, y_val_A)\n",
    "lgbm_model_B = create_and_tune_lgbm(X_train_B, y_train_B, X_val_B, y_val_B)\n",
    "lgbm_model_C = create_and_tune_lgbm(X_train_C, y_train_C, X_val_C, y_val_C)"
   ]
  },
  {
   "cell_type": "markdown",
   "id": "c545f1c8-b0d6-4b7b-a38b-a495645123a1",
   "metadata": {},
   "source": [
    "## Predict\n",
    "Below we have added several ways to predict the values for each model."
   ]
  },
  {
   "cell_type": "code",
   "execution_count": 181,
   "id": "3fcec1cf",
   "metadata": {},
   "outputs": [
    {
     "name": "stdout",
     "output_type": "stream",
     "text": [
      " 1/23 [>.............................] - ETA: 0s"
     ]
    },
    {
     "name": "stdout",
     "output_type": "stream",
     "text": [
      "23/23 [==============================] - 0s 375us/step\n",
      "23/23 [==============================] - 0s 326us/step\n",
      "23/23 [==============================] - 0s 333us/step\n",
      "23/23 [==============================] - 0s 323us/step\n",
      "23/23 [==============================] - 0s 278us/step\n",
      "23/23 [==============================] - 0s 310us/step\n",
      "23/23 [==============================] - 0s 279us/step\n",
      "23/23 [==============================] - 0s 291us/step\n",
      "23/23 [==============================] - 0s 306us/step\n",
      "23/23 [==============================] - 0s 277us/step\n",
      "23/23 [==============================] - 0s 262us/step\n",
      "23/23 [==============================] - 0s 277us/step\n",
      "23/23 [==============================] - 0s 271us/step\n",
      "23/23 [==============================] - 0s 286us/step\n",
      "23/23 [==============================] - 0s 309us/step\n"
     ]
    }
   ],
   "source": [
    "# This part shows the prediction when we tried to stack the best mlp models for each location\n",
    "X_test_meta_A = column_stack([model.predict(X_test_A) for model in models_A])\n",
    "X_test_meta_B = column_stack([model.predict(X_test_B) for model in models_B])\n",
    "X_test_meta_C = column_stack([model.predict(X_test_C) for model in models_C])\n",
    "\n",
    "y_pred_A = meta_learner_A.predict(X_test_meta_A).ravel()\n",
    "y_pred_B = meta_learner_B.predict(X_test_meta_B).ravel()\n",
    "y_pred_C = meta_learner_C.predict(X_test_meta_C).ravel()\n",
    "\n",
    "y_pred_A[y_pred_A < 0] = 0\n",
    "y_pred_B[y_pred_B < 0] = 0\n",
    "y_pred_C[y_pred_C < 0] = 0"
   ]
  },
  {
   "cell_type": "code",
   "execution_count": 45,
   "id": "afa92500-7a15-4866-84b8-4f616bd6a358",
   "metadata": {},
   "outputs": [
    {
     "name": "stdout",
     "output_type": "stream",
     "text": [
      "23/23 [==============================] - 0s 319us/step\n",
      "23/23 [==============================] - 0s 288us/step\n",
      "23/23 [==============================] - 0s 283us/step\n"
     ]
    }
   ],
   "source": [
    "# This prediction shows a combination of mlp and lgbm models. When other models were implemented we did the same thing\n",
    "# but with the new model names.\n",
    "y_pred_a_mlp = mlp_model_A.predict(X_test_A).ravel()\n",
    "y_pred_b_mlp = mlp_model_B.predict(X_test_B).ravel()\n",
    "y_pred_c_mlp = mlp_model_C.predict(X_test_C).ravel()\n",
    "\n",
    "y_pred_a_lgbm = lgbm_model_A.predict(X_test_A).ravel()\n",
    "y_pred_b_lgbm = lgbm_model_B.predict(X_test_B).ravel()\n",
    "y_pred_c_lgbm = lgbm_model_C.predict(X_test_C).ravel()\n",
    "\n",
    "y_pred_a_mlp[y_pred_a_mlp < 0] = 0\n",
    "y_pred_b_mlp[y_pred_b_mlp < 0] = 0\n",
    "y_pred_c_mlp[y_pred_c_mlp < 0] = 0\n",
    "\n",
    "y_pred_a_lgbm[y_pred_a_lgbm < 0] = 0\n",
    "y_pred_b_lgbm[y_pred_b_lgbm < 0] = 0\n",
    "y_pred_c_lgbm[y_pred_c_lgbm < 0] = 0\n",
    "\n",
    "# Compute the geometric mean\n",
    "y_pred_A = np.power(np.maximum(y_pred_a_lgbm * y_pred_a_mlp, 0), 1/2)\n",
    "y_pred_B = np.power(np.maximum(y_pred_b_lgbm * y_pred_b_mlp, 0), 1/2)\n",
    "y_pred_C = np.power(np.maximum(y_pred_c_lgbm * y_pred_c_mlp, 0), 1/2)\n"
   ]
  },
  {
   "cell_type": "code",
   "execution_count": 183,
   "id": "f3487edc-f275-46fc-abba-b66b330a56c8",
   "metadata": {},
   "outputs": [],
   "source": [
    "# Here we combine all the predictions from each location to one final submission file with everyone\n",
    "test_data = pd.read_csv(os.path.join(\"Submissions\", 'test.csv'))\n",
    "location_a_test = test_data[test_data['location'] == \"A\"]\n",
    "location_b_test = test_data[test_data['location'] == \"B\"]\n",
    "location_c_test = test_data[test_data['location'] == \"C\"]\n",
    "\n",
    "submission_A = pd.DataFrame({'id': location_a_test['id'], 'predicted_values': y_pred_A})\n",
    "submission_B = pd.DataFrame({'id': location_b_test['id'], 'predicted_values': y_pred_B})\n",
    "submission_C = pd.DataFrame({'id': location_c_test['id'], 'predicted_values': y_pred_C})\n",
    "\n",
    "final_submission = pd.concat([submission_A, submission_B, submission_C], ignore_index=True)\n",
    "\n",
    "final_submission['predicted_values'] = np.where(final_submission['predicted_values'] < 10, 0, final_submission['predicted_values'])\n",
    "\n",
    "final_submission.to_csv('Submissions/submission_45.csv', index=False)"
   ]
  },
  {
   "cell_type": "code",
   "execution_count": 186,
   "id": "5ed94c91",
   "metadata": {},
   "outputs": [],
   "source": [
    "# This code shows when we manually tried to combine two predictions and took the geometric mean of them\n",
    "submission_1 = pd.read_csv('Submissions/mlp.csv')\n",
    "submission_2 = pd.read_csv('Submissions/catboost.csv')  \n",
    "geom_mean_predictions = gmean([submission_1['predicted_values'], submission_2['predicted_values']], axis=0)\n",
    "\n",
    "geom_mean_submission = pd.DataFrame({\n",
    "    'id': submission_1['id'],\n",
    "    'predicted_values': geom_mean_predictions\n",
    "})\n",
    "geom_mean_submission.to_csv('Submissions/geometric_mean_submission1.csv', index=False)"
   ]
  }
 ],
 "metadata": {
  "environment": {
   "kernel": "python3",
   "name": "tf2-cpu.2-11.m112",
   "type": "gcloud",
   "uri": "gcr.io/deeplearning-platform-release/tf2-cpu.2-11:m112"
  },
  "kernelspec": {
   "display_name": "Python 3",
   "language": "python",
   "name": "python3"
  },
  "language_info": {
   "codemirror_mode": {
    "name": "ipython",
    "version": 3
   },
   "file_extension": ".py",
   "mimetype": "text/x-python",
   "name": "python",
   "nbconvert_exporter": "python",
   "pygments_lexer": "ipython3",
   "version": "3.10.12"
  }
 },
 "nbformat": 4,
 "nbformat_minor": 5
}
