{
 "cells": [
  {
   "cell_type": "code",
   "execution_count": 4,
   "metadata": {},
   "outputs": [],
   "source": [
    "import os\n",
    "import pandas as pd\n",
    "import numpy as np\n",
    "import matplotlib.pylab as plt\n",
    "from sklearn.metrics import mean_absolute_error\n",
    "from sklearn.ensemble import RandomForestRegressor\n",
    "from sklearn.metrics import mean_squared_error\n",
    "from sklearn.model_selection import GridSearchCV\n",
    "from sklearn.ensemble import HistGradientBoostingRegressor\n",
    "%matplotlib inline\n",
    "\n",
    "pd.set_option('display.max_rows', 200)\n",
    "pd.set_option('display.max_columns', 200)"
   ]
  },
  {
   "cell_type": "code",
   "execution_count": 5,
   "metadata": {},
   "outputs": [],
   "source": [
    "test_read = pd.read_csv('new_features_datasets/F_test.csv')\n",
    "training_and_validation_read = pd.read_csv('new_features_datasets/F_training_and_validation.csv')"
   ]
  },
  {
   "cell_type": "code",
   "execution_count": 6,
   "metadata": {},
   "outputs": [],
   "source": [
    "common_columns = training_and_validation_read.columns.intersection(test_read.columns)\n",
    "\n",
    "# Reorder the columns in both DataFrames to match the order of 'common_columns'\n",
    "test = test_read[common_columns]\n",
    "training_and_validation = training_and_validation_read[common_columns]\n",
    "\n",
    "# Add the 'pv_measurement' column from 'test' to 'training_and_validation'\n",
    "training_and_validation['pv_measurement'] = training_and_validation_read['pv_measurement']"
   ]
  },
  {
   "cell_type": "code",
   "execution_count": 7,
   "metadata": {},
   "outputs": [],
   "source": [
    "training_and_validation['date_forecast'] = pd.to_datetime(training_and_validation['date_forecast'])\n",
    "\n",
    "# Define the date for the split\n",
    "split_date = pd.to_datetime('2022-10-22')\n",
    "\n",
    "# Split the DataFrame into training and test sets\n",
    "train_fit = training_and_validation[training_and_validation['date_forecast'] <= split_date]\n",
    "train_fit.reset_index(drop=True, inplace=True)\n",
    "X_train = train_fit.drop(columns=['pv_measurement'])\n",
    "X_train = X_train.drop(columns=['date_forecast'])\n",
    "\n",
    "y_train = train_fit['pv_measurement']  # Target variable\n",
    "test_fit = training_and_validation[training_and_validation['date_forecast'] > split_date]\n",
    "test_fit.reset_index(drop=True, inplace=True)\n",
    "X_test = test_fit.drop(columns=['pv_measurement'])\n",
    "X_test = X_test.drop(columns=['date_forecast'])\n",
    "\n",
    "y_test = test_fit['pv_measurement']  # Target variable"
   ]
  },
  {
   "cell_type": "markdown",
   "metadata": {},
   "source": [
    "### Random forest"
   ]
  },
  {
   "cell_type": "code",
   "execution_count": 8,
   "metadata": {},
   "outputs": [
    {
     "name": "stdout",
     "output_type": "stream",
     "text": [
      "Mean absolute error on validation data: 68.24\n"
     ]
    }
   ],
   "source": [
    "# Step 2: Create and train the Random Forest model\n",
    "rf_model = RandomForestRegressor(n_estimators=400, max_depth=10, min_samples_split=2, min_samples_leaf=2)  # You can adjust hyperparameters\n",
    "rf_model.fit(X_train, y_train)\n",
    "\n",
    "# Step 3: Evaluate the model's performance on the validation data\n",
    "y_pred = rf_model.predict(X_test)\n",
    "\n",
    "# Calculate the mean squared error (MSE)\n",
    "mae = mean_absolute_error(y_test, y_pred)\n",
    "print(f'Mean absolute error on validation data: {mae:.2f}')"
   ]
  },
  {
   "cell_type": "code",
   "execution_count": 9,
   "metadata": {},
   "outputs": [],
   "source": [
    "training2 = training_and_validation.drop(columns=['pv_measurement'])\n",
    "x_training = training2.drop(columns=['date_forecast'])\n",
    "x_training.reset_index(drop=True, inplace=True)\n",
    "\n",
    "y_training = training_and_validation['pv_measurement']  # Target variable\n",
    "y_training.reset_index(drop=True, inplace=True)\n",
    "\n",
    "test = test.drop(columns = ['date_forecast'])"
   ]
  },
  {
   "cell_type": "code",
   "execution_count": 10,
   "metadata": {},
   "outputs": [],
   "source": [
    "rf_model2 = RandomForestRegressor(n_estimators=400, max_depth=10, min_samples_split=2, min_samples_leaf=2)  # You can adjust hyperparameters\n",
    "rf_model2.fit(x_training, y_training)\n",
    "\n",
    "# Step 3: Evaluate the model's performance on the validation data\n",
    "y_pred_rf = rf_model2.predict(test)"
   ]
  },
  {
   "cell_type": "code",
   "execution_count": 11,
   "metadata": {},
   "outputs": [],
   "source": [
    "test2 = pd.read_csv('test.csv')\n",
    "sample_submission = pd.read_csv('sample_submission.csv')\n",
    "test2['prediction'] = y_pred_rf\n",
    "sample_submission = sample_submission[['id']].merge(test2[['id', 'prediction']], on='id', how='left')\n",
    "#sample_submission.to_csv('Submissions/submission_7.csv', index=False)"
   ]
  },
  {
   "cell_type": "markdown",
   "metadata": {},
   "source": [
    "#### HGB regression"
   ]
  },
  {
   "cell_type": "code",
   "execution_count": 12,
   "metadata": {},
   "outputs": [
    {
     "name": "stdout",
     "output_type": "stream",
     "text": [
      "Mean Absolute Error: 70.07\n"
     ]
    }
   ],
   "source": [
    "# Initialize the HistGradientBoostingRegressor model\n",
    "hgb_regressor = HistGradientBoostingRegressor()\n",
    "\n",
    "# Train the model\n",
    "hgb_regressor.fit(X_train, y_train)\n",
    "\n",
    "# Make predictions on the test set\n",
    "y_pred = hgb_regressor.predict(X_test)\n",
    "\n",
    "# Calculate the mean absolute error\n",
    "mae = mean_absolute_error(y_test, y_pred)\n",
    "print(f'Mean Absolute Error: {mae:.2f}')"
   ]
  },
  {
   "cell_type": "code",
   "execution_count": 13,
   "metadata": {},
   "outputs": [],
   "source": [
    "hgb_regressor.fit(x_training, y_training)\n",
    "\n",
    "# Step 3: Evaluate the model's performance on the validation data\n",
    "y_pred_hgb = hgb_regressor.predict(test)"
   ]
  },
  {
   "cell_type": "code",
   "execution_count": null,
   "metadata": {},
   "outputs": [],
   "source": [
    "test3 = pd.read_csv('test.csv')\n",
    "sample_submission = pd.read_csv('sample_submission.csv')\n",
    "test3['prediction'] = y_pred_hgb\n",
    "sample_submission = sample_submission[['id']].merge(test3[['id', 'prediction']], on='id', how='left')\n",
    "sample_submission.to_csv('Submissions/submission_9.csv', index=False)"
   ]
  }
 ],
 "metadata": {
  "kernelspec": {
   "display_name": ".venv",
   "language": "python",
   "name": "python3"
  },
  "language_info": {
   "codemirror_mode": {
    "name": "ipython",
    "version": 3
   },
   "file_extension": ".py",
   "mimetype": "text/x-python",
   "name": "python",
   "nbconvert_exporter": "python",
   "pygments_lexer": "ipython3",
   "version": "3.9.2"
  },
  "orig_nbformat": 4
 },
 "nbformat": 4,
 "nbformat_minor": 2
}
